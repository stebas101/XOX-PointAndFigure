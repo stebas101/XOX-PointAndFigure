{
 "cells": [
  {
   "cell_type": "markdown",
   "id": "75085006",
   "metadata": {},
   "source": [
    "# XOX PnF charts\n",
    "## Development Notes"
   ]
  },
  {
   "cell_type": "markdown",
   "id": "5dd35a36",
   "metadata": {},
   "source": [
    "Two methods for populating charts:\n",
    "\n",
    "- **High and Low** price: whenever H and L are available\n",
    "- **Last/Close** price: for illiquid assets (or indices). Also for intraday trading using realtime data\n",
    "\n",
    "Scale types:\n",
    "\n",
    "- Constant size boxes\n",
    "- Variable size boxes"
   ]
  },
  {
   "cell_type": "code",
   "execution_count": 1,
   "id": "66ecf08a",
   "metadata": {},
   "outputs": [
    {
     "name": "stdout",
     "output_type": "stream",
     "text": [
      "Python version: 3.9.12 (main, Apr  5 2022, 01:53:17) \n",
      "[Clang 12.0.0 ]\n",
      "pandas version: 1.4.2\n",
      "numpy version: 1.22.3\n"
     ]
    }
   ],
   "source": [
    "import numpy as np\n",
    "import pandas as pd\n",
    "\n",
    "import sys\n",
    "print(f\"Python version: {sys.version}\")\n",
    "print(f\"pandas version: {pd.__version__}\")\n",
    "print(f\"numpy version: {np.__version__}\")"
   ]
  },
  {
   "cell_type": "code",
   "execution_count": 2,
   "id": "b046721d",
   "metadata": {},
   "outputs": [
    {
     "data": {
      "text/html": [
       "<div>\n",
       "<style scoped>\n",
       "    .dataframe tbody tr th:only-of-type {\n",
       "        vertical-align: middle;\n",
       "    }\n",
       "\n",
       "    .dataframe tbody tr th {\n",
       "        vertical-align: top;\n",
       "    }\n",
       "\n",
       "    .dataframe thead th {\n",
       "        text-align: right;\n",
       "    }\n",
       "</style>\n",
       "<table border=\"1\" class=\"dataframe\">\n",
       "  <thead>\n",
       "    <tr style=\"text-align: right;\">\n",
       "      <th></th>\n",
       "      <th>Date</th>\n",
       "      <th>Open</th>\n",
       "      <th>High</th>\n",
       "      <th>Low</th>\n",
       "      <th>Close</th>\n",
       "      <th>Volume</th>\n",
       "    </tr>\n",
       "  </thead>\n",
       "  <tbody>\n",
       "    <tr>\n",
       "      <th>0</th>\n",
       "      <td>2001-01-01</td>\n",
       "      <td>37.25</td>\n",
       "      <td>38.25</td>\n",
       "      <td>35.75</td>\n",
       "      <td>37.50</td>\n",
       "      <td>1234000</td>\n",
       "    </tr>\n",
       "    <tr>\n",
       "      <th>1</th>\n",
       "      <td>2001-01-02</td>\n",
       "      <td>39.50</td>\n",
       "      <td>40.12</td>\n",
       "      <td>39.25</td>\n",
       "      <td>40.00</td>\n",
       "      <td>1567000</td>\n",
       "    </tr>\n",
       "    <tr>\n",
       "      <th>2</th>\n",
       "      <td>2001-01-03</td>\n",
       "      <td>37.50</td>\n",
       "      <td>38.50</td>\n",
       "      <td>37.00</td>\n",
       "      <td>37.25</td>\n",
       "      <td>1456000</td>\n",
       "    </tr>\n",
       "    <tr>\n",
       "      <th>3</th>\n",
       "      <td>2001-01-04</td>\n",
       "      <td>37.00</td>\n",
       "      <td>37.50</td>\n",
       "      <td>36.50</td>\n",
       "      <td>37.00</td>\n",
       "      <td>1789000</td>\n",
       "    </tr>\n",
       "    <tr>\n",
       "      <th>4</th>\n",
       "      <td>2001-01-05</td>\n",
       "      <td>37.00</td>\n",
       "      <td>40.25</td>\n",
       "      <td>37.00</td>\n",
       "      <td>39.00</td>\n",
       "      <td>2345000</td>\n",
       "    </tr>\n",
       "  </tbody>\n",
       "</table>\n",
       "</div>"
      ],
      "text/plain": [
       "         Date   Open   High    Low  Close   Volume\n",
       "0  2001-01-01  37.25  38.25  35.75  37.50  1234000\n",
       "1  2001-01-02  39.50  40.12  39.25  40.00  1567000\n",
       "2  2001-01-03  37.50  38.50  37.00  37.25  1456000\n",
       "3  2001-01-04  37.00  37.50  36.50  37.00  1789000\n",
       "4  2001-01-05  37.00  40.25  37.00  39.00  2345000"
      ]
     },
     "execution_count": 2,
     "metadata": {},
     "output_type": "execute_result"
    }
   ],
   "source": [
    "# Reading a sample data file\n",
    "\n",
    "data = pd.read_csv(\"data/EXP1.csv\")\n",
    "data.head()"
   ]
  },
  {
   "cell_type": "code",
   "execution_count": null,
   "id": "6cdc6f97",
   "metadata": {},
   "outputs": [],
   "source": [
    "data.describe()"
   ]
  },
  {
   "cell_type": "code",
   "execution_count": null,
   "id": "8116907e",
   "metadata": {},
   "outputs": [],
   "source": [
    "data.info()"
   ]
  },
  {
   "cell_type": "code",
   "execution_count": 3,
   "id": "479fd5d4",
   "metadata": {},
   "outputs": [],
   "source": [
    "# Using only H, L and C data\n",
    "price_data = data[['High','Low','Close']]"
   ]
  },
  {
   "cell_type": "code",
   "execution_count": 4,
   "id": "bb7ee322",
   "metadata": {},
   "outputs": [
    {
     "data": {
      "text/html": [
       "<div>\n",
       "<style scoped>\n",
       "    .dataframe tbody tr th:only-of-type {\n",
       "        vertical-align: middle;\n",
       "    }\n",
       "\n",
       "    .dataframe tbody tr th {\n",
       "        vertical-align: top;\n",
       "    }\n",
       "\n",
       "    .dataframe thead th {\n",
       "        text-align: right;\n",
       "    }\n",
       "</style>\n",
       "<table border=\"1\" class=\"dataframe\">\n",
       "  <thead>\n",
       "    <tr style=\"text-align: right;\">\n",
       "      <th></th>\n",
       "      <th>High</th>\n",
       "      <th>Low</th>\n",
       "      <th>Close</th>\n",
       "    </tr>\n",
       "  </thead>\n",
       "  <tbody>\n",
       "    <tr>\n",
       "      <th>0</th>\n",
       "      <td>38.25</td>\n",
       "      <td>35.75</td>\n",
       "      <td>37.50</td>\n",
       "    </tr>\n",
       "    <tr>\n",
       "      <th>1</th>\n",
       "      <td>40.12</td>\n",
       "      <td>39.25</td>\n",
       "      <td>40.00</td>\n",
       "    </tr>\n",
       "    <tr>\n",
       "      <th>2</th>\n",
       "      <td>38.50</td>\n",
       "      <td>37.00</td>\n",
       "      <td>37.25</td>\n",
       "    </tr>\n",
       "    <tr>\n",
       "      <th>3</th>\n",
       "      <td>37.50</td>\n",
       "      <td>36.50</td>\n",
       "      <td>37.00</td>\n",
       "    </tr>\n",
       "    <tr>\n",
       "      <th>4</th>\n",
       "      <td>40.25</td>\n",
       "      <td>37.00</td>\n",
       "      <td>39.00</td>\n",
       "    </tr>\n",
       "  </tbody>\n",
       "</table>\n",
       "</div>"
      ],
      "text/plain": [
       "    High    Low  Close\n",
       "0  38.25  35.75  37.50\n",
       "1  40.12  39.25  40.00\n",
       "2  38.50  37.00  37.25\n",
       "3  37.50  36.50  37.00\n",
       "4  40.25  37.00  39.00"
      ]
     },
     "execution_count": 4,
     "metadata": {},
     "output_type": "execute_result"
    }
   ],
   "source": [
    "price_data.head()"
   ]
  },
  {
   "cell_type": "markdown",
   "id": "1170aa52",
   "metadata": {},
   "source": [
    "## PnF functions\n",
    "\n",
    "- init_pnf() initializes the first column\n",
    "- update_pnf() deals with the rest of the chart\n",
    "- chart_text() generates a string with a text version of the chart"
   ]
  },
  {
   "cell_type": "code",
   "execution_count": 5,
   "id": "4b1a9523",
   "metadata": {},
   "outputs": [],
   "source": [
    "import pnfplot"
   ]
  },
  {
   "cell_type": "code",
   "execution_count": null,
   "id": "89d5bc65",
   "metadata": {},
   "outputs": [],
   "source": [
    "# TO DO\n",
    "def generate_scale(start, end, box_size=1, method='standard'):\n",
    "    scale = np.arange(start=start, stop=high+box_size, step=box_size)\n",
    "    \n",
    "    return scale"
   ]
  },
  {
   "cell_type": "markdown",
   "id": "491a7abf",
   "metadata": {},
   "source": [
    "## Testing our functions"
   ]
  },
  {
   "cell_type": "code",
   "execution_count": 66,
   "id": "0ab632cc",
   "metadata": {},
   "outputs": [
    {
     "name": "stdout",
     "output_type": "stream",
     "text": [
      "1 [36 37 38]\n"
     ]
    }
   ],
   "source": [
    "# testing init_pnf() on the 1st line of data:\n",
    "\n",
    "box_size = 1\n",
    "reversal_size = 3\n",
    "# scale = pnfplot.generate_scale(start=32, end=44, box_size = box_size)\n",
    "scale = np.arange(32,42, 1)\n",
    "\n",
    "high = 38.25\n",
    "low = 35.75\n",
    "close = 37.5\n",
    "\n",
    "status, box_range = pnfplot.init_pnf(scale, high, low, close, reversal_size)\n",
    "print(status, box_range)"
   ]
  },
  {
   "cell_type": "code",
   "execution_count": 67,
   "id": "d7f99a9e",
   "metadata": {},
   "outputs": [
    {
     "data": {
      "text/plain": [
       "(1, array([36, 37, 38, 39]))"
      ]
     },
     "execution_count": 67,
     "metadata": {},
     "output_type": "execute_result"
    }
   ],
   "source": [
    "# testing init_pnf() on subsequent lines of data (when status==0)\n",
    "# define: box_range array, status\n",
    "\n",
    "\n",
    "high = 39.25\n",
    "low = 35.01\n",
    "close = 38\n",
    "\n",
    "pnfplot.init_pnf(scale, high, low, close, reversal_size, box_range)"
   ]
  },
  {
   "cell_type": "markdown",
   "id": "b2e1eff7",
   "metadata": {},
   "source": [
    "### Tests for update_pnf() go here"
   ]
  },
  {
   "cell_type": "code",
   "execution_count": 68,
   "id": "c71d9835",
   "metadata": {},
   "outputs": [
    {
     "data": {
      "text/plain": [
       "(1, array([36, 37, 38, 39, 40]))"
      ]
     },
     "execution_count": 68,
     "metadata": {},
     "output_type": "execute_result"
    }
   ],
   "source": [
    "# test 1\n",
    "trend_status = np.array([1, 0, 0])\n",
    "box_range = np.array([36, 37, 38])\n",
    "\n",
    "reversal_size = 3\n",
    "\n",
    "high = 40.12\n",
    "low = 39.25\n",
    "\n",
    "start = 1\n",
    "status = trend_status[0]\n",
    "box_h = box_range.max()\n",
    "box_l = box_range.min()\n",
    "\n",
    "# print(scale, high, low, status, reversal_size, box_l, box_h)\n",
    "pnfplot.update_pnf(scale, high, low, status, reversal_size, box_l, box_h)"
   ]
  },
  {
   "cell_type": "code",
   "execution_count": 69,
   "id": "6cd23c91",
   "metadata": {},
   "outputs": [
    {
     "data": {
      "text/plain": [
       "(-1, array([37, 38, 39]))"
      ]
     },
     "execution_count": 69,
     "metadata": {},
     "output_type": "execute_result"
    }
   ],
   "source": [
    "# test 2\n",
    "trend_status = np.array([1, 1, 0])\n",
    "box_range = np.array([36, 37, 38, 39, 40])\n",
    "\n",
    "reversal_size = 3\n",
    "\n",
    "high = 38.5\n",
    "low = 37\n",
    "\n",
    "status = trend_status[1]\n",
    "box_h = box_range.max()\n",
    "box_l = box_range.min()\n",
    "\n",
    "# print(scale, high, low, status, reversal_size, box_l, box_h)\n",
    "pnfplot.update_pnf(scale, high, low, status, reversal_size, box_l, box_h)"
   ]
  },
  {
   "cell_type": "code",
   "execution_count": 70,
   "id": "fd39a94f",
   "metadata": {},
   "outputs": [
    {
     "data": {
      "text/plain": [
       "(1, array([38, 39, 40]))"
      ]
     },
     "execution_count": 70,
     "metadata": {},
     "output_type": "execute_result"
    }
   ],
   "source": [
    "# test 3\n",
    "trend_status = np.array([1, 1, -1])\n",
    "box_range = np.array([37, 38, 39])\n",
    "\n",
    "reversal_size = 3\n",
    "\n",
    "high = 40.25\n",
    "low = 37\n",
    "\n",
    "start = 1\n",
    "status = trend_status[2]\n",
    "box_h = box_range.max()\n",
    "box_l = box_range.min()\n",
    "\n",
    "# print(scale, high, low, status, reversal_size, box_l, box_h)\n",
    "pnfplot.update_pnf(scale, high, low, status, reversal_size, box_l, box_h)"
   ]
  },
  {
   "cell_type": "markdown",
   "id": "d6d59abf",
   "metadata": {},
   "source": [
    "## Processing the data using the functions"
   ]
  },
  {
   "cell_type": "code",
   "execution_count": 71,
   "id": "3d2d0d25",
   "metadata": {},
   "outputs": [
    {
     "data": {
      "text/html": [
       "<div>\n",
       "<style scoped>\n",
       "    .dataframe tbody tr th:only-of-type {\n",
       "        vertical-align: middle;\n",
       "    }\n",
       "\n",
       "    .dataframe tbody tr th {\n",
       "        vertical-align: top;\n",
       "    }\n",
       "\n",
       "    .dataframe thead th {\n",
       "        text-align: right;\n",
       "    }\n",
       "</style>\n",
       "<table border=\"1\" class=\"dataframe\">\n",
       "  <thead>\n",
       "    <tr style=\"text-align: right;\">\n",
       "      <th></th>\n",
       "      <th>High</th>\n",
       "      <th>Low</th>\n",
       "      <th>Close</th>\n",
       "    </tr>\n",
       "  </thead>\n",
       "  <tbody>\n",
       "    <tr>\n",
       "      <th>0</th>\n",
       "      <td>38.25</td>\n",
       "      <td>35.75</td>\n",
       "      <td>37.50</td>\n",
       "    </tr>\n",
       "    <tr>\n",
       "      <th>1</th>\n",
       "      <td>40.12</td>\n",
       "      <td>39.25</td>\n",
       "      <td>40.00</td>\n",
       "    </tr>\n",
       "    <tr>\n",
       "      <th>2</th>\n",
       "      <td>38.50</td>\n",
       "      <td>37.00</td>\n",
       "      <td>37.25</td>\n",
       "    </tr>\n",
       "    <tr>\n",
       "      <th>3</th>\n",
       "      <td>37.50</td>\n",
       "      <td>36.50</td>\n",
       "      <td>37.00</td>\n",
       "    </tr>\n",
       "    <tr>\n",
       "      <th>4</th>\n",
       "      <td>40.25</td>\n",
       "      <td>37.00</td>\n",
       "      <td>39.00</td>\n",
       "    </tr>\n",
       "  </tbody>\n",
       "</table>\n",
       "</div>"
      ],
      "text/plain": [
       "    High    Low  Close\n",
       "0  38.25  35.75  37.50\n",
       "1  40.12  39.25  40.00\n",
       "2  38.50  37.00  37.25\n",
       "3  37.50  36.50  37.00\n",
       "4  40.25  37.00  39.00"
      ]
     },
     "execution_count": 71,
     "metadata": {},
     "output_type": "execute_result"
    }
   ],
   "source": [
    "price_data.head()"
   ]
  },
  {
   "cell_type": "code",
   "execution_count": 84,
   "id": "7564f061",
   "metadata": {},
   "outputs": [
    {
     "data": {
      "text/html": [
       "<div>\n",
       "<style scoped>\n",
       "    .dataframe tbody tr th:only-of-type {\n",
       "        vertical-align: middle;\n",
       "    }\n",
       "\n",
       "    .dataframe tbody tr th {\n",
       "        vertical-align: top;\n",
       "    }\n",
       "\n",
       "    .dataframe thead th {\n",
       "        text-align: right;\n",
       "    }\n",
       "</style>\n",
       "<table border=\"1\" class=\"dataframe\">\n",
       "  <thead>\n",
       "    <tr style=\"text-align: right;\">\n",
       "      <th></th>\n",
       "      <th>High</th>\n",
       "      <th>Low</th>\n",
       "      <th>Close</th>\n",
       "      <th>trend_status</th>\n",
       "      <th>range_low</th>\n",
       "      <th>range_high</th>\n",
       "    </tr>\n",
       "  </thead>\n",
       "  <tbody>\n",
       "    <tr>\n",
       "      <th>0</th>\n",
       "      <td>38.25</td>\n",
       "      <td>35.75</td>\n",
       "      <td>37.50</td>\n",
       "      <td>0.0</td>\n",
       "      <td>0.0</td>\n",
       "      <td>0.0</td>\n",
       "    </tr>\n",
       "    <tr>\n",
       "      <th>1</th>\n",
       "      <td>40.12</td>\n",
       "      <td>39.25</td>\n",
       "      <td>40.00</td>\n",
       "      <td>0.0</td>\n",
       "      <td>0.0</td>\n",
       "      <td>0.0</td>\n",
       "    </tr>\n",
       "    <tr>\n",
       "      <th>2</th>\n",
       "      <td>38.50</td>\n",
       "      <td>37.00</td>\n",
       "      <td>37.25</td>\n",
       "      <td>0.0</td>\n",
       "      <td>0.0</td>\n",
       "      <td>0.0</td>\n",
       "    </tr>\n",
       "    <tr>\n",
       "      <th>3</th>\n",
       "      <td>37.50</td>\n",
       "      <td>36.50</td>\n",
       "      <td>37.00</td>\n",
       "      <td>0.0</td>\n",
       "      <td>0.0</td>\n",
       "      <td>0.0</td>\n",
       "    </tr>\n",
       "    <tr>\n",
       "      <th>4</th>\n",
       "      <td>40.25</td>\n",
       "      <td>37.00</td>\n",
       "      <td>39.00</td>\n",
       "      <td>0.0</td>\n",
       "      <td>0.0</td>\n",
       "      <td>0.0</td>\n",
       "    </tr>\n",
       "  </tbody>\n",
       "</table>\n",
       "</div>"
      ],
      "text/plain": [
       "    High    Low  Close  trend_status  range_low  range_high\n",
       "0  38.25  35.75  37.50           0.0        0.0         0.0\n",
       "1  40.12  39.25  40.00           0.0        0.0         0.0\n",
       "2  38.50  37.00  37.25           0.0        0.0         0.0\n",
       "3  37.50  36.50  37.00           0.0        0.0         0.0\n",
       "4  40.25  37.00  39.00           0.0        0.0         0.0"
      ]
     },
     "execution_count": 84,
     "metadata": {},
     "output_type": "execute_result"
    }
   ],
   "source": [
    "# initialise status and box arrays:\n",
    "trend_status = np.zeros(len(price_data))\n",
    "box_low = np.zeros(len(price_data))\n",
    "box_high = np.zeros(len(price_data))\n",
    "\n",
    "trend_data = pd.DataFrame({\n",
    "    'trend_status' : trend_status,\n",
    "    'range_low': box_low,\n",
    "    'range_high': box_high\n",
    "})\n",
    "\n",
    "pnf_data = pd.concat([price_data, trend_data], axis=1)\n",
    "pnf_data"
   ]
  },
  {
   "cell_type": "code",
   "execution_count": 85,
   "id": "e985c108",
   "metadata": {},
   "outputs": [
    {
     "name": "stdout",
     "output_type": "stream",
     "text": [
      "Trend status: [0. 0. 0. 0. 0.]\n",
      "Box Low: [0. 0. 0. 0. 0.]\n",
      "Box High: [0. 0. 0. 0. 0.]\n",
      "Scale: [34 35 36 37 38 39 40 41]\n"
     ]
    }
   ],
   "source": [
    "# initialise status and box arrays:\n",
    "# trend_status = np.zeros(len(price_data))\n",
    "# box_low = np.zeros(len(price_data))\n",
    "# box_high = np.zeros(len(price_data))\n",
    "\n",
    "box_size = 10\n",
    "reversal_size = 3\n",
    "# scale = generate_scale(start=np.floor(price_data['Low'].min()), end=np.ceil(price_data['High'].max()), box_size=box_size)\n",
    "scale = np.arange(34,42, 1)\n",
    "\n",
    "print(f'Trend status: {trend_status}\\nBox Low: {box_low}\\nBox High: {box_high}\\nScale: {scale}')"
   ]
  },
  {
   "cell_type": "code",
   "execution_count": null,
   "id": "f8d21c30",
   "metadata": {},
   "outputs": [],
   "source": [
    "# Initialise the chart until a status (+/-)1 is reached\n",
    "box_range = []\n",
    "for index, row in enumerate(price_data.iterrows()):\n",
    "    high = row[1]['High']\n",
    "    low = row[1]['Low']\n",
    "    close = row[1]['Close']\n",
    "    status, box_range = pnfplot.init_pnf(scale, high, low, close, reversal_size, box_range)\n",
    "    trend_status[index] = status\n",
    "    box_low[index] = box_range.min()\n",
    "    box_high[index] = box_range.max()\n",
    "    if status != 0:\n",
    "        break\n",
    "\n",
    "# status can still be 0! create an example for testing\n",
    "print(f'Index: {index}\\nTrend status: {trend_status}\\nBox Low: {box_low}\\nBox High: {box_high}\\nRange: {scale[np.logical_and(scale>=box_low[index], scale<=box_high[index])]}')"
   ]
  },
  {
   "cell_type": "code",
   "execution_count": 89,
   "id": "26ea07f6",
   "metadata": {},
   "outputs": [
    {
     "name": "stdout",
     "output_type": "stream",
     "text": [
      "0 1\n"
     ]
    },
    {
     "data": {
      "text/html": [
       "<div>\n",
       "<style scoped>\n",
       "    .dataframe tbody tr th:only-of-type {\n",
       "        vertical-align: middle;\n",
       "    }\n",
       "\n",
       "    .dataframe tbody tr th {\n",
       "        vertical-align: top;\n",
       "    }\n",
       "\n",
       "    .dataframe thead th {\n",
       "        text-align: right;\n",
       "    }\n",
       "</style>\n",
       "<table border=\"1\" class=\"dataframe\">\n",
       "  <thead>\n",
       "    <tr style=\"text-align: right;\">\n",
       "      <th></th>\n",
       "      <th>High</th>\n",
       "      <th>Low</th>\n",
       "      <th>Close</th>\n",
       "      <th>trend_status</th>\n",
       "      <th>range_low</th>\n",
       "      <th>range_high</th>\n",
       "    </tr>\n",
       "  </thead>\n",
       "  <tbody>\n",
       "    <tr>\n",
       "      <th>0</th>\n",
       "      <td>38.25</td>\n",
       "      <td>35.75</td>\n",
       "      <td>37.50</td>\n",
       "      <td>1.0</td>\n",
       "      <td>36.0</td>\n",
       "      <td>38.0</td>\n",
       "    </tr>\n",
       "    <tr>\n",
       "      <th>1</th>\n",
       "      <td>40.12</td>\n",
       "      <td>39.25</td>\n",
       "      <td>40.00</td>\n",
       "      <td>0.0</td>\n",
       "      <td>0.0</td>\n",
       "      <td>0.0</td>\n",
       "    </tr>\n",
       "    <tr>\n",
       "      <th>2</th>\n",
       "      <td>38.50</td>\n",
       "      <td>37.00</td>\n",
       "      <td>37.25</td>\n",
       "      <td>0.0</td>\n",
       "      <td>0.0</td>\n",
       "      <td>0.0</td>\n",
       "    </tr>\n",
       "    <tr>\n",
       "      <th>3</th>\n",
       "      <td>37.50</td>\n",
       "      <td>36.50</td>\n",
       "      <td>37.00</td>\n",
       "      <td>0.0</td>\n",
       "      <td>0.0</td>\n",
       "      <td>0.0</td>\n",
       "    </tr>\n",
       "    <tr>\n",
       "      <th>4</th>\n",
       "      <td>40.25</td>\n",
       "      <td>37.00</td>\n",
       "      <td>39.00</td>\n",
       "      <td>0.0</td>\n",
       "      <td>0.0</td>\n",
       "      <td>0.0</td>\n",
       "    </tr>\n",
       "  </tbody>\n",
       "</table>\n",
       "</div>"
      ],
      "text/plain": [
       "    High    Low  Close  trend_status  range_low  range_high\n",
       "0  38.25  35.75  37.50           1.0       36.0        38.0\n",
       "1  40.12  39.25  40.00           0.0        0.0         0.0\n",
       "2  38.50  37.00  37.25           0.0        0.0         0.0\n",
       "3  37.50  36.50  37.00           0.0        0.0         0.0\n",
       "4  40.25  37.00  39.00           0.0        0.0         0.0"
      ]
     },
     "execution_count": 89,
     "metadata": {},
     "output_type": "execute_result"
    }
   ],
   "source": [
    "\n",
    "# Alt version - Repeat initialize!\n",
    "# Initialise the chart until a status (+/-)1 is reached\n",
    "\n",
    "box_range = []\n",
    "# row_count = 0\n",
    "for row in pnf_data.iterrows():\n",
    "    high = row[1]['High']\n",
    "    low = row[1]['Low']\n",
    "    close = row[1]['Close']\n",
    "    status, box_range = pnfplot.init_pnf(scale, high, low, close, reversal_size, box_range)\n",
    "    row[1]['trend_status'] = status\n",
    "    row[1]['range_low'] = box_range.min()\n",
    "    row[1]['range_high'] = box_range.max()\n",
    "#     row_count += 1\n",
    "    if status != 0:\n",
    "        status_found = row[0]\n",
    "        break\n",
    "\n",
    "print(row[0], row_count)\n",
    "pnf_data\n",
    "# status can still be 0! create an example for testing"
   ]
  },
  {
   "cell_type": "code",
   "execution_count": 83,
   "id": "1656bad9",
   "metadata": {},
   "outputs": [
    {
     "name": "stdout",
     "output_type": "stream",
     "text": [
      "True\n"
     ]
    }
   ],
   "source": [
    "# Check if there are more lines of data to process\n",
    "print(status_found + 1 < len(price_data)-1)"
   ]
  },
  {
   "cell_type": "code",
   "execution_count": null,
   "id": "0a95e82f",
   "metadata": {},
   "outputs": [],
   "source": [
    "# Next, we need to process the prices after index:\n",
    "start = index + 1\n",
    "price_data.loc[start:].head()"
   ]
  },
  {
   "cell_type": "code",
   "execution_count": null,
   "id": "820816b4",
   "metadata": {},
   "outputs": [],
   "source": [
    "# Process the remaining lines in price_data:\n",
    "for index, row in enumerate(price_data.loc[start:].iterrows()):\n",
    "    high = row[1]['High']\n",
    "    low = row[1]['Low']\n",
    "    status = trend_status[index + start - 1]\n",
    "    box_l = box_low[index + start - 1]\n",
    "    box_h = box_high[index + start - 1]\n",
    "    status, box_range = update_pnf(scale, high, low, status, reversal_size, box_l, box_h)\n",
    "    trend_status[index+start] = status\n",
    "    box_low[index+start] = box_range.min()\n",
    "    box_high[index+start] = box_range.max()\n",
    "    print(f'Day: {index+start+1}, Trend status: {status}, High and Low: ', high, low, box_low, box_high)\n",
    "\n",
    "# status can still be 0! create an example for testing that case\n",
    "# print(index, trend_status, box_low, box_high)"
   ]
  },
  {
   "cell_type": "code",
   "execution_count": 56,
   "id": "c8142cf1",
   "metadata": {},
   "outputs": [
    {
     "data": {
      "text/html": [
       "<div>\n",
       "<style scoped>\n",
       "    .dataframe tbody tr th:only-of-type {\n",
       "        vertical-align: middle;\n",
       "    }\n",
       "\n",
       "    .dataframe tbody tr th {\n",
       "        vertical-align: top;\n",
       "    }\n",
       "\n",
       "    .dataframe thead th {\n",
       "        text-align: right;\n",
       "    }\n",
       "</style>\n",
       "<table border=\"1\" class=\"dataframe\">\n",
       "  <thead>\n",
       "    <tr style=\"text-align: right;\">\n",
       "      <th></th>\n",
       "      <th>High</th>\n",
       "      <th>Low</th>\n",
       "      <th>Close</th>\n",
       "      <th>trend_status</th>\n",
       "      <th>range_low</th>\n",
       "      <th>range_high</th>\n",
       "      <th>trend_status</th>\n",
       "      <th>range_low</th>\n",
       "      <th>range_high</th>\n",
       "    </tr>\n",
       "  </thead>\n",
       "  <tbody>\n",
       "    <tr>\n",
       "      <th>0</th>\n",
       "      <td>38.25</td>\n",
       "      <td>35.75</td>\n",
       "      <td>37.50</td>\n",
       "      <td>1.0</td>\n",
       "      <td>36.0</td>\n",
       "      <td>38.0</td>\n",
       "      <td>NaN</td>\n",
       "      <td>NaN</td>\n",
       "      <td>NaN</td>\n",
       "    </tr>\n",
       "    <tr>\n",
       "      <th>1</th>\n",
       "      <td>40.12</td>\n",
       "      <td>39.25</td>\n",
       "      <td>40.00</td>\n",
       "      <td>0.0</td>\n",
       "      <td>0.0</td>\n",
       "      <td>0.0</td>\n",
       "      <td>1.0</td>\n",
       "      <td>36.0</td>\n",
       "      <td>38.0</td>\n",
       "    </tr>\n",
       "    <tr>\n",
       "      <th>2</th>\n",
       "      <td>38.50</td>\n",
       "      <td>37.00</td>\n",
       "      <td>37.25</td>\n",
       "      <td>0.0</td>\n",
       "      <td>0.0</td>\n",
       "      <td>0.0</td>\n",
       "      <td>0.0</td>\n",
       "      <td>0.0</td>\n",
       "      <td>0.0</td>\n",
       "    </tr>\n",
       "    <tr>\n",
       "      <th>3</th>\n",
       "      <td>37.50</td>\n",
       "      <td>36.50</td>\n",
       "      <td>37.00</td>\n",
       "      <td>0.0</td>\n",
       "      <td>0.0</td>\n",
       "      <td>0.0</td>\n",
       "      <td>0.0</td>\n",
       "      <td>0.0</td>\n",
       "      <td>0.0</td>\n",
       "    </tr>\n",
       "    <tr>\n",
       "      <th>4</th>\n",
       "      <td>40.25</td>\n",
       "      <td>37.00</td>\n",
       "      <td>39.00</td>\n",
       "      <td>0.0</td>\n",
       "      <td>0.0</td>\n",
       "      <td>0.0</td>\n",
       "      <td>0.0</td>\n",
       "      <td>0.0</td>\n",
       "      <td>0.0</td>\n",
       "    </tr>\n",
       "  </tbody>\n",
       "</table>\n",
       "</div>"
      ],
      "text/plain": [
       "    High    Low  Close  trend_status  range_low  range_high  trend_status  \\\n",
       "0  38.25  35.75  37.50           1.0       36.0        38.0           NaN   \n",
       "1  40.12  39.25  40.00           0.0        0.0         0.0           1.0   \n",
       "2  38.50  37.00  37.25           0.0        0.0         0.0           0.0   \n",
       "3  37.50  36.50  37.00           0.0        0.0         0.0           0.0   \n",
       "4  40.25  37.00  39.00           0.0        0.0         0.0           0.0   \n",
       "\n",
       "   range_low  range_high  \n",
       "0        NaN         NaN  \n",
       "1       36.0        38.0  \n",
       "2        0.0         0.0  \n",
       "3        0.0         0.0  \n",
       "4        0.0         0.0  "
      ]
     },
     "execution_count": 56,
     "metadata": {},
     "output_type": "execute_result"
    }
   ],
   "source": [
    "pnf_data_ext = pd.concat([pnf_data,\n",
    "                         pnf_data[['trend_status', 'range_low', 'range_high']].shift(1)], axis=1)\n",
    "pnf_data_ext"
   ]
  },
  {
   "cell_type": "code",
   "execution_count": null,
   "id": "32bafdf8",
   "metadata": {},
   "outputs": [],
   "source": []
  },
  {
   "cell_type": "code",
   "execution_count": 47,
   "id": "73de9413",
   "metadata": {},
   "outputs": [
    {
     "name": "stdout",
     "output_type": "stream",
     "text": [
      "High            40.12\n",
      "Low             39.25\n",
      "Close           40.00\n",
      "trend_status     0.00\n",
      "range_low        0.00\n",
      "range_high       0.00\n",
      "Name: 1, dtype: float64\n",
      "High            38.50\n",
      "Low             37.00\n",
      "Close           37.25\n",
      "trend_status     0.00\n",
      "range_low        0.00\n",
      "range_high       0.00\n",
      "Name: 2, dtype: float64\n",
      "High            37.5\n",
      "Low             36.5\n",
      "Close           37.0\n",
      "trend_status     0.0\n",
      "range_low        0.0\n",
      "range_high       0.0\n",
      "Name: 3, dtype: float64\n",
      "High            40.25\n",
      "Low             37.00\n",
      "Close           39.00\n",
      "trend_status     0.00\n",
      "range_low        0.00\n",
      "range_high       0.00\n",
      "Name: 4, dtype: float64\n"
     ]
    },
    {
     "data": {
      "text/plain": [
       "1    None\n",
       "2    None\n",
       "3    None\n",
       "4    None\n",
       "dtype: object"
      ]
     },
     "execution_count": 47,
     "metadata": {},
     "output_type": "execute_result"
    }
   ],
   "source": [
    "# alt version\n",
    "# Process the remaining lines in price_data:\n",
    "pnf_data[row_count:].apply(lambda row:\n",
    "                          \n",
    "                           \n",
    "                           ,\n",
    "                          axis=1)\n",
    "\n",
    "# status can still be 0! create an example for testing that case\n",
    "# print(index, trend_status, box_low, box_high)"
   ]
  },
  {
   "cell_type": "code",
   "execution_count": null,
   "id": "5a6d3ca9",
   "metadata": {},
   "outputs": [],
   "source": [
    "print(trend_status, box_low, box_high)"
   ]
  },
  {
   "cell_type": "markdown",
   "id": "4e5a81d8",
   "metadata": {},
   "source": [
    "## Printing the PnF chart"
   ]
  },
  {
   "cell_type": "code",
   "execution_count": null,
   "id": "3a1a16f6",
   "metadata": {},
   "outputs": [],
   "source": [
    "trend_status = trend_status\n",
    "box_low = box_low\n",
    "box_low = box_low\n",
    "\n",
    "pnf_data = pd.DataFrame({'trend_status': trend_status,\n",
    "                         'range_low': box_low,\n",
    "                         'range_high': box_high\n",
    "                        })\n",
    "pnf_data"
   ]
  },
  {
   "cell_type": "markdown",
   "id": "b73a8f42",
   "metadata": {},
   "source": [
    "We plot a column each time the **change** bool array is True (note: it's shifted up), then for the last row"
   ]
  },
  {
   "cell_type": "code",
   "execution_count": null,
   "id": "befcb929",
   "metadata": {},
   "outputs": [],
   "source": [
    "changes = (np.diff(np.sign(trend_status)) != 0)\n",
    "# We make sure that the a column is generated for the last price line:\n",
    "changes = np.append(changes, [True])\n",
    "changes"
   ]
  },
  {
   "cell_type": "code",
   "execution_count": null,
   "id": "ba45b921",
   "metadata": {},
   "outputs": [],
   "source": [
    "# Note that the change column is 'shifted': it's True when a status change is detected on the next price line:\n",
    "pnf_data['change'] = changes\n",
    "pnf_data"
   ]
  },
  {
   "cell_type": "code",
   "execution_count": null,
   "id": "b13abe68",
   "metadata": {},
   "outputs": [],
   "source": [
    "ranges = []\n",
    "trends = []\n",
    "scale = scale\n",
    "\n",
    "# should we use .apply() here?\n",
    "for row in pnf_data[pnf_data['change']].iterrows():\n",
    "    row = row[1]\n",
    "    col_range = generate_column_range(scale, row['range_low'], row['range_high'])\n",
    "    ranges.append(col_range)\n",
    "    trends.append(row['trend_status'])\n",
    "\n",
    "columns = list(zip(trends, ranges))\n",
    "\n",
    "print(columns[:10])"
   ]
  },
  {
   "cell_type": "code",
   "execution_count": null,
   "id": "129ff570",
   "metadata": {},
   "outputs": [],
   "source": [
    "print(pnf_text(scale, columns))"
   ]
  },
  {
   "cell_type": "code",
   "execution_count": null,
   "id": "abbdaf8a",
   "metadata": {},
   "outputs": [],
   "source": []
  }
 ],
 "metadata": {
  "kernelspec": {
   "display_name": "Python 3 (ipykernel)",
   "language": "python",
   "name": "python3"
  },
  "language_info": {
   "codemirror_mode": {
    "name": "ipython",
    "version": 3
   },
   "file_extension": ".py",
   "mimetype": "text/x-python",
   "name": "python",
   "nbconvert_exporter": "python",
   "pygments_lexer": "ipython3",
   "version": "3.9.12"
  }
 },
 "nbformat": 4,
 "nbformat_minor": 5
}
