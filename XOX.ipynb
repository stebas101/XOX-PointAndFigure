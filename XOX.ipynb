{
 "cells": [
  {
   "cell_type": "markdown",
   "id": "75085006",
   "metadata": {},
   "source": [
    "# XOX PnF charts\n",
    "## Development Notes"
   ]
  },
  {
   "cell_type": "markdown",
   "id": "5dd35a36",
   "metadata": {},
   "source": [
    "Two methods for populating charts:\n",
    "\n",
    "- **High and Low** price: whenever H and L are available\n",
    "- **Last/Close** price: for illiquid assets (or indices). Also for intraday trading using realtime data\n",
    "\n",
    "Scale types:\n",
    "\n",
    "- Constant size boxes\n",
    "- Variable size boxes\n",
    "\n",
    "#### Chart creation process:\n",
    "\n",
    "1. Loading data into dataframe - **get_price_data()**\n",
    "2. getting the scale for the chart - **generate_scale()**\n",
    "3. generate a table with rows representing the boxes drawn by a line of data. Each row has a *trend status* (either 1 or -1), a column low and a column high. Those values represent *boxes*, and must be included in the chart scale. This is handled by **get_pnf_ranges()**, which calls:\n",
    "  *  **init_pnf()** first\n",
    "  * then **update_pnf()**\n",
    "  \n",
    "```\n",
    "get_chart() -> get_price_data()\n",
    "               generate_scale()\n",
    "               get_pnf_ranges() -> init_pnf()\n",
    "                                   update_pnf()\n",
    "               get_pnf_changes()\n",
    "               get_pnf_columns() -> generate_column_range()\n",
    "```\n",
    "\n",
    "`get_chart()` should be replaced by the pnf_chart object"
   ]
  },
  {
   "cell_type": "markdown",
   "id": "eb2469c1",
   "metadata": {},
   "source": [
    "### Preparations"
   ]
  },
  {
   "cell_type": "code",
   "execution_count": null,
   "id": "66ecf08a",
   "metadata": {},
   "outputs": [],
   "source": [
    "import numpy as np\n",
    "import pandas as pd\n",
    "\n",
    "import sys\n",
    "print(f\"Python version: {sys.version}\")\n",
    "print(f\"pandas version: {pd.__version__}\")\n",
    "print(f\"numpy version: {np.__version__}\")\n",
    "\n",
    "from xox_pnf.pnfplot import *"
   ]
  },
  {
   "cell_type": "code",
   "execution_count": null,
   "id": "a164c08f",
   "metadata": {},
   "outputs": [],
   "source": [
    "# inputs:\n",
    "data_file = 'MMO2.csv'\n",
    "reversal_size = 3\n",
    "box_size = 1\n",
    "\n",
    "chart_params = {\n",
    "    'data_file': data_file,\n",
    "    'reversal_size': reversal_size,\n",
    "    'box_size': box_size\n",
    "}"
   ]
  },
  {
   "cell_type": "markdown",
   "id": "af2b5527",
   "metadata": {},
   "source": [
    "Functions from pnfplot\n",
    "---------------------------"
   ]
  },
  {
   "cell_type": "markdown",
   "id": "284d8fbf",
   "metadata": {},
   "source": [
    "The chart data processing is managed by get_chart():"
   ]
  },
  {
   "cell_type": "code",
   "execution_count": null,
   "id": "e0a9c7d1",
   "metadata": {
    "scrolled": true
   },
   "outputs": [],
   "source": [
    "get_chart(chart_params)"
   ]
  },
  {
   "cell_type": "markdown",
   "id": "0e996c50",
   "metadata": {},
   "source": [
    "Next, I break down the process using the functions employed by get_chart()"
   ]
  },
  {
   "cell_type": "code",
   "execution_count": null,
   "id": "6a29accf",
   "metadata": {},
   "outputs": [],
   "source": [
    "price_data = get_price_data(data_file)"
   ]
  },
  {
   "cell_type": "code",
   "execution_count": null,
   "id": "0918ee3b",
   "metadata": {},
   "outputs": [],
   "source": [
    "price_data.info()"
   ]
  },
  {
   "cell_type": "code",
   "execution_count": null,
   "id": "3e023604",
   "metadata": {
    "scrolled": false
   },
   "outputs": [],
   "source": [
    "low = price_data['Low'].min()\n",
    "high = price_data['High'].max()\n",
    "scale = generate_scale(low, high, box_size)\n",
    "\n",
    "print(\"box size: \", box_size)\n",
    "print(\"high, low: \", high, low)\n",
    "print(\"nscale array: \", scale)"
   ]
  },
  {
   "cell_type": "code",
   "execution_count": null,
   "id": "f9aaf4bf",
   "metadata": {},
   "outputs": [],
   "source": [
    "high = 101.0\n",
    "low = 0.0\n",
    "box_size = 10\n",
    "scale = generate_scale(low, high, box_size)\n",
    "\n",
    "print(\"box size: \", box_size)\n",
    "print(\"high, low: \", high, low)\n",
    "print(\"nscale array: \", scale)"
   ]
  },
  {
   "cell_type": "markdown",
   "id": "0a7a87ae",
   "metadata": {},
   "source": [
    "### The next two steps are managed by get_pnf_ranges()"
   ]
  },
  {
   "cell_type": "code",
   "execution_count": null,
   "id": "a5b319ee",
   "metadata": {},
   "outputs": [],
   "source": [
    "# initialise status and box arrays:\n",
    "trend_status = np.zeros(len(price_data))\n",
    "box_low = np.zeros(len(price_data))\n",
    "box_high = np.zeros(len(price_data))\n",
    "\n",
    "# Initialise the chart until a trend status (+/-1) is found\n",
    "box_range = []\n",
    "for index, row in enumerate(price_data.iterrows()):\n",
    "    high = row[1]['High']\n",
    "    low = row[1]['Low']\n",
    "    close = row[1]['Close']\n",
    "    status, box_range = init_pnf(scale, high, low, close, reversal_size, box_range)\n",
    "    print(\"step \", index,\"status \" ,status,\"box range\", box_range)\n",
    "    trend_status[index] = status\n",
    "    box_low[index] = box_range.min()\n",
    "    box_high[index] = box_range.max()\n",
    "    if status != 0:\n",
    "        break"
   ]
  },
  {
   "cell_type": "code",
   "execution_count": null,
   "id": "5739c5c3",
   "metadata": {},
   "outputs": [],
   "source": [
    "print(trend_status, box_range)"
   ]
  },
  {
   "cell_type": "code",
   "execution_count": null,
   "id": "fd23ac08",
   "metadata": {},
   "outputs": [],
   "source": [
    "# update_pnf()"
   ]
  },
  {
   "cell_type": "markdown",
   "id": "0b20834c",
   "metadata": {},
   "source": [
    "### get_pnf_ranges() and get_pnf_changes()"
   ]
  },
  {
   "cell_type": "code",
   "execution_count": null,
   "id": "da33ee36",
   "metadata": {
    "scrolled": true
   },
   "outputs": [],
   "source": [
    "# This includes a call to init_pnf() as in the previous cell\n",
    "pnf_data = get_pnf_ranges(price_data, scale, reversal_size)\n",
    "pnf_data"
   ]
  },
  {
   "cell_type": "code",
   "execution_count": null,
   "id": "f567e1cc",
   "metadata": {
    "scrolled": true
   },
   "outputs": [],
   "source": [
    "# Detects change of trend and adds it to time frame\n",
    "# Note that the change column is 'shifted': it's True when a status change is detected on the next price line\n",
    "\n",
    "pnf_data = get_pnf_changes(pnf_data)\n",
    "pnf_data"
   ]
  },
  {
   "cell_type": "markdown",
   "id": "273a9f8d",
   "metadata": {},
   "source": [
    "### Generating the final column arrays"
   ]
  },
  {
   "cell_type": "code",
   "execution_count": null,
   "id": "07d6baaa",
   "metadata": {},
   "outputs": [],
   "source": [
    "# The final chart columns: pairs of trend status and array of boxes\n",
    "columns = get_pnf_columns(pnf_data, scale)\n",
    "columns"
   ]
  },
  {
   "cell_type": "markdown",
   "id": "4e5a81d8",
   "metadata": {},
   "source": [
    "## Printing the PnF chart"
   ]
  },
  {
   "cell_type": "code",
   "execution_count": null,
   "id": "87091abd",
   "metadata": {
    "scrolled": true
   },
   "outputs": [],
   "source": [
    "# Using the pnf_text() function to generate pnf as text\n",
    "\n",
    "print(pnf_text(scale,columns))"
   ]
  },
  {
   "cell_type": "code",
   "execution_count": null,
   "id": "6b3fd5ef",
   "metadata": {},
   "outputs": [],
   "source": [
    "type(pnf_text(scale,columns))"
   ]
  },
  {
   "cell_type": "markdown",
   "id": "b8a1d2b4",
   "metadata": {},
   "source": [
    "## Using the pnf_chart class"
   ]
  },
  {
   "cell_type": "code",
   "execution_count": null,
   "id": "f91b23d8",
   "metadata": {},
   "outputs": [],
   "source": [
    "# class pnf_chart():\n",
    "    \n",
    "#     def __init__(self, chart_params):\n",
    "#         data_file = chart_params['data_file']\n",
    "        \n",
    "#         self.reversal_size = chart_params['reversal_size']\n",
    "#         self.box_size = chart_params['box_size']\n",
    "#         self.price_data = get_price_data(data_file)\n",
    "        \n",
    "#         low = self.price_data['Low'].min()\n",
    "#         high = self.price_data['High'].max()\n",
    "#         self.scale = generate_scale(low, high, self.box_size)\n",
    "        \n",
    "#         pnf_data = get_pnf_ranges(self.price_data, self.scale, self.reversal_size)\n",
    "#         self.pnf_data = get_pnf_changes(pnf_data)\n",
    "        \n",
    "#         self.columns = get_pnf_columns(pnf_data, self.scale)        \n",
    "#         self.text = pnf_text(self.scale, self.columns)\n",
    "        \n",
    "#     def __str__(self):\n",
    "#         return self.text\n",
    "    \n",
    "#     def __repr__(self):\n",
    "#         return f'PnF chart of {data_file}'"
   ]
  },
  {
   "cell_type": "code",
   "execution_count": 1,
   "id": "35b695c4",
   "metadata": {},
   "outputs": [
    {
     "name": "stdout",
     "output_type": "stream",
     "text": [
      "Python version: 3.9.12 (main, Apr  5 2022, 01:53:17) \n",
      "[Clang 12.0.0 ]\n",
      "pandas version: 1.4.2\n",
      "numpy version: 1.22.3\n"
     ]
    }
   ],
   "source": [
    "import numpy as np\n",
    "import pandas as pd\n",
    "\n",
    "import sys\n",
    "print(f\"Python version: {sys.version}\")\n",
    "print(f\"pandas version: {pd.__version__}\")\n",
    "print(f\"numpy version: {np.__version__}\")\n",
    "\n",
    "from xox_pnf.pnfplot import *"
   ]
  },
  {
   "cell_type": "code",
   "execution_count": 2,
   "id": "ef176331",
   "metadata": {},
   "outputs": [],
   "source": [
    "# inputs:\n",
    "data_file = 'MMO2.csv'\n",
    "reversal_size = 5\n",
    "box_size = 1\n",
    "\n",
    "chart_params = {\n",
    "    'data_file': data_file,\n",
    "    'reversal_size': reversal_size,\n",
    "    'box_size': box_size\n",
    "}\n",
    "\n",
    "pnf = PnfChart(chart_params)"
   ]
  },
  {
   "cell_type": "code",
   "execution_count": null,
   "id": "769774c2",
   "metadata": {},
   "outputs": [],
   "source": [
    "pnf.pnf_data"
   ]
  },
  {
   "cell_type": "code",
   "execution_count": 4,
   "id": "a5462e50",
   "metadata": {},
   "outputs": [
    {
     "name": "stdout",
     "output_type": "stream",
     "text": [
      "93.............93\n",
      "92..X..........92\n",
      "91..XO.........91\n",
      "90..XOX........90\n",
      "89..XOXO.......89\n",
      "88..XOXOX......88\n",
      "87..XOXOXO.....87\n",
      "86..XOXOXO.....86\n",
      "85...O.OXO.....85\n",
      "84.....OXO.....84\n",
      "83.....OXO.....83\n",
      "82.....OXO.....82\n",
      "81.....OXO.....81\n",
      "80.....O.O.....80\n",
      "79.......O.....79\n",
      "78.......O.....78\n",
      "77.......O.....77\n",
      "76.......O.....76\n",
      "75.......OX....75\n",
      "74.......OXO...74\n",
      "73.......OXO...73\n",
      "72.......OXO...72\n",
      "71.......OXO...71\n",
      "70.......OXO...70\n",
      "69.......OXO...69\n",
      "68.......O.OX..68\n",
      "67.........OX..67\n",
      "66.........OX..66\n",
      "65.........OX..65\n",
      "64.........OX..64\n",
      "63.........OX..63\n",
      "62.........OX..62\n",
      "61.........OX..61\n",
      "60.........OX..60\n",
      "59.........OX..59\n",
      "58.........O...58\n",
      "57.............57\n"
     ]
    }
   ],
   "source": [
    "print(pnf)"
   ]
  },
  {
   "cell_type": "code",
   "execution_count": 3,
   "id": "eb0a9f2a",
   "metadata": {},
   "outputs": [
    {
     "data": {
      "text/plain": [
       "['93.............93',\n",
       " '92..X..........92',\n",
       " '91..XO.........91',\n",
       " '90..XOX........90',\n",
       " '89..XOXO.......89',\n",
       " '88..XOXOX......88',\n",
       " '87..XOXOXO.....87',\n",
       " '86..XOXOXO.....86',\n",
       " '85...O.OXO.....85',\n",
       " '84.....OXO.....84',\n",
       " '83.....OXO.....83',\n",
       " '82.....OXO.....82',\n",
       " '81.....OXO.....81',\n",
       " '80.....O.O.....80',\n",
       " '79.......O.....79',\n",
       " '78.......O.....78',\n",
       " '77.......O.....77',\n",
       " '76.......O.....76',\n",
       " '75.......OX....75',\n",
       " '74.......OXO...74',\n",
       " '73.......OXO...73',\n",
       " '72.......OXO...72',\n",
       " '71.......OXO...71',\n",
       " '70.......OXO...70',\n",
       " '69.......OXO...69',\n",
       " '68.......O.OX..68',\n",
       " '67.........OX..67',\n",
       " '66.........OX..66',\n",
       " '65.........OX..65',\n",
       " '64.........OX..64',\n",
       " '63.........OX..63',\n",
       " '62.........OX..62',\n",
       " '61.........OX..61',\n",
       " '60.........OX..60',\n",
       " '59.........OX..59',\n",
       " '58.........O...58',\n",
       " '57.............57']"
      ]
     },
     "execution_count": 3,
     "metadata": {},
     "output_type": "execute_result"
    }
   ],
   "source": [
    "pnf.text"
   ]
  },
  {
   "cell_type": "code",
   "execution_count": null,
   "id": "3646b21f",
   "metadata": {},
   "outputs": [],
   "source": [
    "pnf"
   ]
  },
  {
   "cell_type": "code",
   "execution_count": null,
   "id": "99e6359f",
   "metadata": {},
   "outputs": [],
   "source": [
    "pnf.first_day"
   ]
  },
  {
   "cell_type": "code",
   "execution_count": null,
   "id": "09374885",
   "metadata": {},
   "outputs": [],
   "source": [
    "pnf.last_day"
   ]
  },
  {
   "cell_type": "code",
   "execution_count": null,
   "id": "d5f1bd20",
   "metadata": {},
   "outputs": [],
   "source": []
  }
 ],
 "metadata": {
  "kernelspec": {
   "display_name": "Python 3 (ipykernel)",
   "language": "python",
   "name": "python3"
  },
  "language_info": {
   "codemirror_mode": {
    "name": "ipython",
    "version": 3
   },
   "file_extension": ".py",
   "mimetype": "text/x-python",
   "name": "python",
   "nbconvert_exporter": "python",
   "pygments_lexer": "ipython3",
   "version": "3.9.12"
  }
 },
 "nbformat": 4,
 "nbformat_minor": 5
}
