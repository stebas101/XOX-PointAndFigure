{
 "cells": [
  {
   "cell_type": "code",
   "execution_count": 1,
   "id": "66ecf08a",
   "metadata": {},
   "outputs": [
    {
     "name": "stdout",
     "output_type": "stream",
     "text": [
      "Python version: 3.9.12 (main, Apr  5 2022, 01:53:17) \n",
      "[Clang 12.0.0 ]\n",
      "pandas version: 1.4.2\n",
      "numpy version: 1.22.3\n"
     ]
    }
   ],
   "source": [
    "import numpy as np\n",
    "import pandas as pd\n",
    "\n",
    "import sys\n",
    "print(f\"Python version: {sys.version}\")\n",
    "print(f\"pandas version: {pd.__version__}\")\n",
    "print(f\"numpy version: {np.__version__}\")"
   ]
  },
  {
   "cell_type": "code",
   "execution_count": 216,
   "id": "b046721d",
   "metadata": {},
   "outputs": [
    {
     "data": {
      "text/html": [
       "<div>\n",
       "<style scoped>\n",
       "    .dataframe tbody tr th:only-of-type {\n",
       "        vertical-align: middle;\n",
       "    }\n",
       "\n",
       "    .dataframe tbody tr th {\n",
       "        vertical-align: top;\n",
       "    }\n",
       "\n",
       "    .dataframe thead th {\n",
       "        text-align: right;\n",
       "    }\n",
       "</style>\n",
       "<table border=\"1\" class=\"dataframe\">\n",
       "  <thead>\n",
       "    <tr style=\"text-align: right;\">\n",
       "      <th></th>\n",
       "      <th>Date</th>\n",
       "      <th>Open</th>\n",
       "      <th>High</th>\n",
       "      <th>Low</th>\n",
       "      <th>Close</th>\n",
       "      <th>Volume</th>\n",
       "    </tr>\n",
       "  </thead>\n",
       "  <tbody>\n",
       "    <tr>\n",
       "      <th>0</th>\n",
       "      <td>2001-01-01</td>\n",
       "      <td>37.25</td>\n",
       "      <td>38.25</td>\n",
       "      <td>35.75</td>\n",
       "      <td>37.50</td>\n",
       "      <td>1234000</td>\n",
       "    </tr>\n",
       "    <tr>\n",
       "      <th>1</th>\n",
       "      <td>2001-01-02</td>\n",
       "      <td>39.50</td>\n",
       "      <td>40.12</td>\n",
       "      <td>39.25</td>\n",
       "      <td>40.00</td>\n",
       "      <td>1567000</td>\n",
       "    </tr>\n",
       "    <tr>\n",
       "      <th>2</th>\n",
       "      <td>2001-01-03</td>\n",
       "      <td>37.50</td>\n",
       "      <td>38.50</td>\n",
       "      <td>37.00</td>\n",
       "      <td>37.25</td>\n",
       "      <td>1456000</td>\n",
       "    </tr>\n",
       "    <tr>\n",
       "      <th>3</th>\n",
       "      <td>2001-01-04</td>\n",
       "      <td>37.00</td>\n",
       "      <td>37.50</td>\n",
       "      <td>36.50</td>\n",
       "      <td>37.00</td>\n",
       "      <td>1789000</td>\n",
       "    </tr>\n",
       "    <tr>\n",
       "      <th>4</th>\n",
       "      <td>2001-01-05</td>\n",
       "      <td>37.00</td>\n",
       "      <td>40.25</td>\n",
       "      <td>37.00</td>\n",
       "      <td>39.00</td>\n",
       "      <td>2345000</td>\n",
       "    </tr>\n",
       "  </tbody>\n",
       "</table>\n",
       "</div>"
      ],
      "text/plain": [
       "         Date   Open   High    Low  Close   Volume\n",
       "0  2001-01-01  37.25  38.25  35.75  37.50  1234000\n",
       "1  2001-01-02  39.50  40.12  39.25  40.00  1567000\n",
       "2  2001-01-03  37.50  38.50  37.00  37.25  1456000\n",
       "3  2001-01-04  37.00  37.50  36.50  37.00  1789000\n",
       "4  2001-01-05  37.00  40.25  37.00  39.00  2345000"
      ]
     },
     "execution_count": 216,
     "metadata": {},
     "output_type": "execute_result"
    }
   ],
   "source": [
    "data = pd.read_csv(\"data/EXP1.csv\")\n",
    "data.head()"
   ]
  },
  {
   "cell_type": "code",
   "execution_count": null,
   "id": "6cdc6f97",
   "metadata": {},
   "outputs": [],
   "source": [
    "data.describe()"
   ]
  },
  {
   "cell_type": "code",
   "execution_count": null,
   "id": "8116907e",
   "metadata": {},
   "outputs": [],
   "source": [
    "data.info()"
   ]
  },
  {
   "cell_type": "code",
   "execution_count": 3,
   "id": "479fd5d4",
   "metadata": {},
   "outputs": [],
   "source": [
    "price_data = data[['High','Low','Close']]"
   ]
  },
  {
   "cell_type": "code",
   "execution_count": 85,
   "id": "bb7ee322",
   "metadata": {},
   "outputs": [
    {
     "data": {
      "text/html": [
       "<div>\n",
       "<style scoped>\n",
       "    .dataframe tbody tr th:only-of-type {\n",
       "        vertical-align: middle;\n",
       "    }\n",
       "\n",
       "    .dataframe tbody tr th {\n",
       "        vertical-align: top;\n",
       "    }\n",
       "\n",
       "    .dataframe thead th {\n",
       "        text-align: right;\n",
       "    }\n",
       "</style>\n",
       "<table border=\"1\" class=\"dataframe\">\n",
       "  <thead>\n",
       "    <tr style=\"text-align: right;\">\n",
       "      <th></th>\n",
       "      <th>High</th>\n",
       "      <th>Low</th>\n",
       "      <th>Close</th>\n",
       "    </tr>\n",
       "  </thead>\n",
       "  <tbody>\n",
       "    <tr>\n",
       "      <th>0</th>\n",
       "      <td>38.25</td>\n",
       "      <td>35.75</td>\n",
       "      <td>37.50</td>\n",
       "    </tr>\n",
       "    <tr>\n",
       "      <th>1</th>\n",
       "      <td>40.12</td>\n",
       "      <td>39.25</td>\n",
       "      <td>40.00</td>\n",
       "    </tr>\n",
       "    <tr>\n",
       "      <th>2</th>\n",
       "      <td>38.50</td>\n",
       "      <td>37.00</td>\n",
       "      <td>37.25</td>\n",
       "    </tr>\n",
       "    <tr>\n",
       "      <th>3</th>\n",
       "      <td>37.50</td>\n",
       "      <td>36.50</td>\n",
       "      <td>37.00</td>\n",
       "    </tr>\n",
       "    <tr>\n",
       "      <th>4</th>\n",
       "      <td>40.25</td>\n",
       "      <td>37.00</td>\n",
       "      <td>39.00</td>\n",
       "    </tr>\n",
       "  </tbody>\n",
       "</table>\n",
       "</div>"
      ],
      "text/plain": [
       "    High    Low  Close\n",
       "0  38.25  35.75  37.50\n",
       "1  40.12  39.25  40.00\n",
       "2  38.50  37.00  37.25\n",
       "3  37.50  36.50  37.00\n",
       "4  40.25  37.00  39.00"
      ]
     },
     "execution_count": 85,
     "metadata": {},
     "output_type": "execute_result"
    }
   ],
   "source": [
    "price_data.head()"
   ]
  },
  {
   "cell_type": "markdown",
   "id": "5dd35a36",
   "metadata": {},
   "source": [
    "Two methods for populating charts:\n",
    "\n",
    "- **High and Low** price: whenever H and L are available\n",
    "- **Last/Close** price: for illiquid assets (or indices). Also for intraday trading using realtime data\n",
    "\n",
    "Scale types:\n",
    "\n",
    "- Constant size boxes\n",
    "- Variable size boxes"
   ]
  },
  {
   "cell_type": "markdown",
   "id": "82929f27",
   "metadata": {},
   "source": [
    "## pnf functions\n",
    "\n",
    "- init_pnf() initializes the first column\n",
    "- update_pnf() deals with the rest of the chart"
   ]
  },
  {
   "cell_type": "code",
   "execution_count": 4,
   "id": "9f718397",
   "metadata": {},
   "outputs": [],
   "source": [
    "def init_pnf(scale,\n",
    "             high,\n",
    "             low,\n",
    "             close,\n",
    "             reversal_size,\n",
    "             box_range=[]):\n",
    "    '''\n",
    "    returns status as num value and box_range as array\n",
    "    '''\n",
    "    \n",
    "    if len(box_range) == 0:\n",
    "        box_range = scale[np.logical_and(scale>=low, scale<=high)]\n",
    "    else:\n",
    "        # simplify logic using max()\n",
    "        if high > box_range.max():\n",
    "            box_range = scale[np.logical_and(scale>=box_range.min(), scale<=high)]\n",
    "        if low < box_range.min():\n",
    "            box_range = scale[np.logical_and(scale<=box_range.max(), scale>=low)]\n",
    "        \n",
    "    # check definition of mid_price\n",
    "    mid_price = box_range.min() + (box_range.max() - box_range.min())/2\n",
    "\n",
    "    if len(box_range) >= reversal_size and close > mid_price:\n",
    "        status = 1\n",
    "    elif len(box_range) >= reversal_size and close < mid_price:\n",
    "        status = -1\n",
    "    else:\n",
    "        status = 0\n",
    "        \n",
    "    return status, box_range"
   ]
  },
  {
   "cell_type": "code",
   "execution_count": 231,
   "id": "34183d10",
   "metadata": {},
   "outputs": [],
   "source": [
    "def update_pnf(scale,\n",
    "               high,\n",
    "               low,\n",
    "               status,\n",
    "               reversal_size,\n",
    "               box_low,\n",
    "               box_high):\n",
    "    '''\n",
    "    updates the chart once the trend status is defined\n",
    "    returns status and box_range for the day\n",
    "    '''\n",
    "    box_range = scale[np.logical_and(scale>=box_low, scale<=box_high)] # needed in case we return the current range\n",
    "    box_reverse = []\n",
    "    # new temporary box range with extensions on both sides:\n",
    "    box_range_new = scale[np.logical_and(scale>=min(low, box_low), scale<=max(high, box_high))]\n",
    "    box_high_new = box_range_new.max()\n",
    "    box_low_new = box_range_new.min()\n",
    "    \n",
    "    if status == 1:\n",
    "        # check for upper extensions, else for reversals\n",
    "        if box_high_new > box_high:\n",
    "            box_range = scale[np.logical_and(scale>=box_low, scale<=box_high_new)]\n",
    "            # check for reversal\n",
    "        elif low < box_high:\n",
    "            box_reverse = scale[np.logical_and(scale>=low, scale<=box_high)][:-1]            \n",
    "            # research condition\n",
    "            # change status and new range\n",
    "                  \n",
    "    if status == -1:\n",
    "        if box_low_new < box_low:\n",
    "            box_range = scale[np.logical_and(scale>=box_low_new, scale<=box_high)]\n",
    "        elif high > box_low:\n",
    "            box_reverse = scale[np.logical_and(scale>=box_low, scale<=high)][1:]\n",
    "\n",
    "    # Check reversal and reverse status if needed:      \n",
    "    if len(box_reverse) >= reversal_size:\n",
    "        status *= -1 # reverse status\n",
    "        box_range = box_reverse # update box_range\n",
    "    \n",
    "    return status, box_range"
   ]
  },
  {
   "cell_type": "code",
   "execution_count": 374,
   "id": "5a79e8b2",
   "metadata": {},
   "outputs": [],
   "source": [
    "def generate_column_range(scale, range_low, range_high):\n",
    "    col_range = scale[np.logical_and(scale>=range_low, scale<=range_high)]\n",
    "    return col_range  "
   ]
  },
  {
   "cell_type": "code",
   "execution_count": 340,
   "id": "cce2d258",
   "metadata": {},
   "outputs": [],
   "source": [
    "def chart_grid(scale, columns):\n",
    "    '''\n",
    "    Generates a blank monospace-font grid that can be used as a canvas for the PnF chart\n",
    "    - scale: a np array\n",
    "    - columns: a list of tuples (int, np.array)\n",
    "    '''\n",
    "    hpad = 2\n",
    "    marker = {0:'*', 1:'X', -1:'O'}\n",
    "    grid = \"\"\n",
    "\n",
    "    for level in np.flip(scale):\n",
    "        line_price = level\n",
    "        line = f'{line_price}' + '.'*hpad\n",
    "        for col in columns:\n",
    "            line += marker[col[0]] if line_price in col[1] else '.'\n",
    "        line += '.'*hpad + f'{line_price}\\n'\n",
    "        grid += line\n",
    "    \n",
    "    return grid"
   ]
  },
  {
   "cell_type": "markdown",
   "id": "d5733585",
   "metadata": {},
   "source": [
    "## Testing our functions"
   ]
  },
  {
   "cell_type": "code",
   "execution_count": 182,
   "id": "0ab632cc",
   "metadata": {},
   "outputs": [],
   "source": [
    "# testing init_pnf() on the 1st line of data:\n",
    "\n",
    "box_size = 1\n",
    "reversal_size = 3\n",
    "scale = np.arange(start=32, stop=46, step = box_size)\n",
    "\n",
    "high = 38.25\n",
    "low = 35.75\n",
    "close = 37.5\n",
    "\n",
    "status, box_range = init_pnf(scale, high, low, close, reversal_size)"
   ]
  },
  {
   "cell_type": "code",
   "execution_count": 184,
   "id": "fb29e9a4",
   "metadata": {},
   "outputs": [
    {
     "data": {
      "text/plain": [
       "1"
      ]
     },
     "execution_count": 184,
     "metadata": {},
     "output_type": "execute_result"
    }
   ],
   "source": [
    "status"
   ]
  },
  {
   "cell_type": "code",
   "execution_count": 183,
   "id": "2dae9cd9",
   "metadata": {},
   "outputs": [
    {
     "data": {
      "text/plain": [
       "array([36, 37, 38])"
      ]
     },
     "execution_count": 183,
     "metadata": {},
     "output_type": "execute_result"
    }
   ],
   "source": [
    "box_range"
   ]
  },
  {
   "cell_type": "code",
   "execution_count": 126,
   "id": "4da71c12",
   "metadata": {},
   "outputs": [
    {
     "data": {
      "text/plain": [
       "1"
      ]
     },
     "execution_count": 126,
     "metadata": {},
     "output_type": "execute_result"
    }
   ],
   "source": [
    "status"
   ]
  },
  {
   "cell_type": "code",
   "execution_count": 180,
   "id": "d7f99a9e",
   "metadata": {},
   "outputs": [
    {
     "data": {
      "text/plain": [
       "(0, array([36, 37, 38, 39, 40]))"
      ]
     },
     "execution_count": 180,
     "metadata": {},
     "output_type": "execute_result"
    }
   ],
   "source": [
    "# testing init_pnf() on subsequent lines of data (when status==0)\n",
    "# define: box_range array, status\n",
    "\n",
    "\n",
    "high = 39.25\n",
    "low = 35.01\n",
    "close = 38\n",
    "\n",
    "init_pnf(scale, high, low, close, reversal_size, box_range)"
   ]
  },
  {
   "cell_type": "code",
   "execution_count": 87,
   "id": "fa4aba33",
   "metadata": {},
   "outputs": [
    {
     "name": "stdout",
     "output_type": "stream",
     "text": [
      "[36 37 38 39 40] [36 37 38 39 40] [] 1\n"
     ]
    }
   ],
   "source": [
    "# testing reversal logic\n",
    "\n",
    "box_range = np.array([36, 37, 38])\n",
    "status = 1\n",
    "scale = scale\n",
    "reversal_size = 3\n",
    "\n",
    "high = 40.5\n",
    "low = 35.5\n",
    "box_low = box_range.min()\n",
    "box_high = box_range.max()\n",
    "\n",
    "box_reverse = []\n",
    "# this can be simplified into one line using max()\n",
    "# new range with extensions on both sides:\n",
    "# if high > box_high:\n",
    "#     box_range_new = scale[np.logical_and(scale>=box_low, scale<=high)]\n",
    "# if low < box_low:\n",
    "#     box_range_new = scale[np.logical_and(scale<=box_high, scale>=low)]\n",
    "box_range_new = scale[np.logical_and(scale>=min(low, box_low), scale<=max(high, box_high))]\n",
    "\n",
    "# we actually need only box_high_new and box_low_new\n",
    "# box_high_new = box_range_new.max()\n",
    "# box_low_new = box_range_new.min()\n",
    "\n",
    "if status == 1:\n",
    "    # we 1st check for extensions on the upside\n",
    "    if box_range_new.max() > box_high:\n",
    "        # extend range up:\n",
    "        box_range = scale[np.logical_and(scale>=box_low, scale<=box_range_new.max())]\n",
    "    # if no extension, check for reversal:\n",
    "    elif low < box_high:\n",
    "        box_reverse = scale[np.logical_and(scale>=low, scale<=box_high)][:-1]\n",
    "\n",
    "if status == -1:\n",
    "    # we 1st check for extensions on the downside\n",
    "    if box_range_new.min() < box_low:\n",
    "        # extend range down:\n",
    "        box_range = scale[np.logical_and(scale>=box_range_new.min(), scale<=box_high)]\n",
    "    # if no extension, check for reversal:\n",
    "    elif high > box_low:\n",
    "        box_reverse = scale[np.logical_and(scale>=box_low, scale<=high)][1:]\n",
    "\n",
    "if len(box_reverse) >= reversal_size:\n",
    "    status *= -1 # reverse status\n",
    "    box_range = box_reverse\n",
    "    \n",
    "print(box_range, box_range_new, box_reverse, status)"
   ]
  },
  {
   "cell_type": "markdown",
   "id": "782da68b",
   "metadata": {},
   "source": [
    "#### tests for update_pnf() go here"
   ]
  },
  {
   "cell_type": "code",
   "execution_count": 161,
   "id": "0c2b925f",
   "metadata": {},
   "outputs": [
    {
     "name": "stdout",
     "output_type": "stream",
     "text": [
      "[36 37 38] [36 37 38 39 40]\n"
     ]
    },
    {
     "data": {
      "text/plain": [
       "(1, array([36, 37, 38, 39, 40]))"
      ]
     },
     "execution_count": 161,
     "metadata": {},
     "output_type": "execute_result"
    }
   ],
   "source": [
    "# test 1\n",
    "trend_status = np.array([1, 0, 0])\n",
    "box_range = np.array([36, 37, 38])\n",
    "\n",
    "reversal_size = 3\n",
    "\n",
    "high = 40.12\n",
    "low = 39.25\n",
    "\n",
    "start = 1\n",
    "status = trend_status[0]\n",
    "box_h = box_range.max()\n",
    "box_l = box_range.min()\n",
    "\n",
    "# print(scale, high, low, status, reversal_size, box_l, box_h)\n",
    "update_pnf(scale, high, low, status, reversal_size, box_l, box_h)"
   ]
  },
  {
   "cell_type": "code",
   "execution_count": 221,
   "id": "cff09da2",
   "metadata": {},
   "outputs": [
    {
     "name": "stdout",
     "output_type": "stream",
     "text": [
      "[36 37 38 39 40] [36 37 38 39 40]\n"
     ]
    },
    {
     "data": {
      "text/plain": [
       "(-1, array([37, 38, 39]))"
      ]
     },
     "execution_count": 221,
     "metadata": {},
     "output_type": "execute_result"
    }
   ],
   "source": [
    "# test 2\n",
    "trend_status = np.array([1, 1, 0])\n",
    "box_range = np.array([36, 37, 38, 39, 40])\n",
    "\n",
    "reversal_size = 3\n",
    "\n",
    "high = 38.5\n",
    "low = 37\n",
    "\n",
    "status = trend_status[1]\n",
    "box_h = box_range.max()\n",
    "box_l = box_range.min()\n",
    "\n",
    "# print(scale, high, low, status, reversal_size, box_l, box_h)\n",
    "update_pnf(scale, high, low, status, reversal_size, box_l, box_h)"
   ]
  },
  {
   "cell_type": "code",
   "execution_count": 164,
   "id": "66a8a873",
   "metadata": {},
   "outputs": [
    {
     "name": "stdout",
     "output_type": "stream",
     "text": [
      "[37 38 39] [37 38 39 40]\n"
     ]
    },
    {
     "data": {
      "text/plain": [
       "(1, array([38, 39, 40]))"
      ]
     },
     "execution_count": 164,
     "metadata": {},
     "output_type": "execute_result"
    }
   ],
   "source": [
    "# test 3\n",
    "trend_status = np.array([1, 1, -1])\n",
    "box_range = np.array([37, 38, 39])\n",
    "\n",
    "reversal_size = 3\n",
    "\n",
    "high = 40.25\n",
    "low = 37\n",
    "\n",
    "start = 1\n",
    "status = trend_status[2]\n",
    "box_h = box_range.max()\n",
    "box_l = box_range.min()\n",
    "\n",
    "# print(scale, high, low, status, reversal_size, box_l, box_h)\n",
    "update_pnf(scale, high, low, status, reversal_size, box_l, box_h)"
   ]
  },
  {
   "cell_type": "code",
   "execution_count": null,
   "id": "0b8d2d1b",
   "metadata": {},
   "outputs": [],
   "source": []
  },
  {
   "cell_type": "markdown",
   "id": "560da583",
   "metadata": {},
   "source": [
    "## Applying the functions"
   ]
  },
  {
   "cell_type": "code",
   "execution_count": 207,
   "id": "7a8f057a",
   "metadata": {},
   "outputs": [
    {
     "data": {
      "text/html": [
       "<div>\n",
       "<style scoped>\n",
       "    .dataframe tbody tr th:only-of-type {\n",
       "        vertical-align: middle;\n",
       "    }\n",
       "\n",
       "    .dataframe tbody tr th {\n",
       "        vertical-align: top;\n",
       "    }\n",
       "\n",
       "    .dataframe thead th {\n",
       "        text-align: right;\n",
       "    }\n",
       "</style>\n",
       "<table border=\"1\" class=\"dataframe\">\n",
       "  <thead>\n",
       "    <tr style=\"text-align: right;\">\n",
       "      <th></th>\n",
       "      <th>High</th>\n",
       "      <th>Low</th>\n",
       "      <th>Close</th>\n",
       "    </tr>\n",
       "  </thead>\n",
       "  <tbody>\n",
       "    <tr>\n",
       "      <th>0</th>\n",
       "      <td>38.25</td>\n",
       "      <td>35.75</td>\n",
       "      <td>37.50</td>\n",
       "    </tr>\n",
       "    <tr>\n",
       "      <th>1</th>\n",
       "      <td>40.12</td>\n",
       "      <td>39.25</td>\n",
       "      <td>40.00</td>\n",
       "    </tr>\n",
       "    <tr>\n",
       "      <th>2</th>\n",
       "      <td>38.50</td>\n",
       "      <td>37.00</td>\n",
       "      <td>37.25</td>\n",
       "    </tr>\n",
       "    <tr>\n",
       "      <th>3</th>\n",
       "      <td>37.50</td>\n",
       "      <td>36.50</td>\n",
       "      <td>37.00</td>\n",
       "    </tr>\n",
       "    <tr>\n",
       "      <th>4</th>\n",
       "      <td>40.25</td>\n",
       "      <td>37.00</td>\n",
       "      <td>39.00</td>\n",
       "    </tr>\n",
       "  </tbody>\n",
       "</table>\n",
       "</div>"
      ],
      "text/plain": [
       "    High    Low  Close\n",
       "0  38.25  35.75  37.50\n",
       "1  40.12  39.25  40.00\n",
       "2  38.50  37.00  37.25\n",
       "3  37.50  36.50  37.00\n",
       "4  40.25  37.00  39.00"
      ]
     },
     "execution_count": 207,
     "metadata": {},
     "output_type": "execute_result"
    }
   ],
   "source": [
    "price_data"
   ]
  },
  {
   "cell_type": "code",
   "execution_count": 242,
   "id": "e985c108",
   "metadata": {},
   "outputs": [
    {
     "name": "stdout",
     "output_type": "stream",
     "text": [
      "Trend status: [0. 0. 0. 0. 0.]\n",
      "Box Low: [0. 0. 0. 0. 0.]\n",
      "Box High: [0. 0. 0. 0. 0.]\n",
      "Scale: [32 33 34 35 36 37 38 39 40 41 42]\n"
     ]
    }
   ],
   "source": [
    "# initialise status and box arrays:\n",
    "trend_status = np.zeros(len(price_data))\n",
    "box_low = np.zeros(len(price_data))\n",
    "box_high = np.zeros(len(price_data))\n",
    "\n",
    "scale = np.arange(32,43)\n",
    "box_size = 1\n",
    "reversal_size = 3\n",
    "\n",
    "print(f'Trend status: {trend_status}\\nBox Low: {box_low}\\nBox High: {box_high}\\nScale: {scale}')"
   ]
  },
  {
   "cell_type": "code",
   "execution_count": 243,
   "id": "f8d21c30",
   "metadata": {},
   "outputs": [
    {
     "name": "stdout",
     "output_type": "stream",
     "text": [
      "Index: 0\n",
      "Trend status: [1. 0. 0. 0. 0.]\n",
      "Box Low: [36.  0.  0.  0.  0.]\n",
      "Box High: [38.  0.  0.  0.  0.]\n",
      "Range: [36 37 38]\n"
     ]
    }
   ],
   "source": [
    "# Initialise the chart until a status (+/-)1 is reached\n",
    "box_range = []\n",
    "for index, row in enumerate(price_data.iterrows()):\n",
    "    high = row[1]['High']\n",
    "    low = row[1]['Low']\n",
    "    close = row[1]['Close']\n",
    "    status, box_range = init_pnf(scale, high, low, close, reversal_size, box_range)\n",
    "    trend_status[index] = status\n",
    "    box_low[index] = box_range.min()\n",
    "    box_high[index] = box_range.max()\n",
    "    if status != 0:\n",
    "        break\n",
    "\n",
    "# status can still be 0! create an example for testing\n",
    "print(f'Index: {index}\\nTrend status: {trend_status}\\nBox Low: {box_low}\\nBox High: {box_high}\\nRange: {scale[np.logical_and(scale>=box_low[index], scale<=box_high[index])]}')"
   ]
  },
  {
   "cell_type": "code",
   "execution_count": 227,
   "id": "3adff01c",
   "metadata": {},
   "outputs": [
    {
     "name": "stdout",
     "output_type": "stream",
     "text": [
      "True\n"
     ]
    }
   ],
   "source": [
    "# Check if there are more lines of data to process\n",
    "print(index + 1 < len(price_data))"
   ]
  },
  {
   "cell_type": "code",
   "execution_count": 190,
   "id": "fde5af95",
   "metadata": {},
   "outputs": [
    {
     "data": {
      "text/html": [
       "<div>\n",
       "<style scoped>\n",
       "    .dataframe tbody tr th:only-of-type {\n",
       "        vertical-align: middle;\n",
       "    }\n",
       "\n",
       "    .dataframe tbody tr th {\n",
       "        vertical-align: top;\n",
       "    }\n",
       "\n",
       "    .dataframe thead th {\n",
       "        text-align: right;\n",
       "    }\n",
       "</style>\n",
       "<table border=\"1\" class=\"dataframe\">\n",
       "  <thead>\n",
       "    <tr style=\"text-align: right;\">\n",
       "      <th></th>\n",
       "      <th>High</th>\n",
       "      <th>Low</th>\n",
       "      <th>Close</th>\n",
       "    </tr>\n",
       "  </thead>\n",
       "  <tbody>\n",
       "    <tr>\n",
       "      <th>1</th>\n",
       "      <td>40.12</td>\n",
       "      <td>39.25</td>\n",
       "      <td>40.00</td>\n",
       "    </tr>\n",
       "    <tr>\n",
       "      <th>2</th>\n",
       "      <td>38.50</td>\n",
       "      <td>37.00</td>\n",
       "      <td>37.25</td>\n",
       "    </tr>\n",
       "    <tr>\n",
       "      <th>3</th>\n",
       "      <td>37.50</td>\n",
       "      <td>36.50</td>\n",
       "      <td>37.00</td>\n",
       "    </tr>\n",
       "    <tr>\n",
       "      <th>4</th>\n",
       "      <td>40.25</td>\n",
       "      <td>37.00</td>\n",
       "      <td>39.00</td>\n",
       "    </tr>\n",
       "  </tbody>\n",
       "</table>\n",
       "</div>"
      ],
      "text/plain": [
       "    High    Low  Close\n",
       "1  40.12  39.25  40.00\n",
       "2  38.50  37.00  37.25\n",
       "3  37.50  36.50  37.00\n",
       "4  40.25  37.00  39.00"
      ]
     },
     "execution_count": 190,
     "metadata": {},
     "output_type": "execute_result"
    }
   ],
   "source": [
    "# Next, we need to process the prices after index:\n",
    "start = index + 1\n",
    "price_data.loc[start:]"
   ]
  },
  {
   "cell_type": "code",
   "execution_count": 191,
   "id": "ab97c09f",
   "metadata": {},
   "outputs": [
    {
     "name": "stdout",
     "output_type": "stream",
     "text": [
      "40.12 39.25\n",
      "38.5 37.0\n",
      "37.5 36.5\n",
      "40.25 37.0\n"
     ]
    }
   ],
   "source": [
    "for index, row in enumerate(price_data.loc[start:].iterrows()):\n",
    "    high = row[1]['High']\n",
    "    low = row[1]['Low']\n",
    "    print(high, low)"
   ]
  },
  {
   "cell_type": "code",
   "execution_count": 244,
   "id": "aee8f98d",
   "metadata": {},
   "outputs": [
    {
     "name": "stdout",
     "output_type": "stream",
     "text": [
      "Day: 2, Trend status: 1.0 40.12 39.25 [36. 36.  0.  0.  0.] [38. 40.  0.  0.  0.]\n",
      "Day: 3, Trend status: -1.0 38.5 37.0 [36. 36. 37.  0.  0.] [38. 40. 39.  0.  0.]\n",
      "Day: 4, Trend status: -1.0 37.5 36.5 [36. 36. 37. 37.  0.] [38. 40. 39. 39.  0.]\n",
      "Day: 5, Trend status: 1.0 40.25 37.0 [36. 36. 37. 37. 38.] [38. 40. 39. 39. 40.]\n"
     ]
    }
   ],
   "source": [
    "# Process the remaining lines in price_data:\n",
    "for index, row in enumerate(price_data.loc[start:].iterrows()):\n",
    "    high = row[1]['High']\n",
    "    low = row[1]['Low']\n",
    "    status = trend_status[index+start - 1]\n",
    "    box_l = box_low[index+start - 1]\n",
    "    box_h = box_high[index+start - 1]\n",
    "    status, box_range = update_pnf(scale, high, low, status, reversal_size, box_l, box_h)\n",
    "    trend_status[index+start] = status\n",
    "    box_low[index+start] = box_range.min()\n",
    "    box_high[index+start] = box_range.max()\n",
    "    print(f'Day: {index+start+1}, Trend status: {status}, High and Low: ', high, low, box_low, box_high)\n",
    "\n",
    "# status can still be 0! create an example for testing\n",
    "# print(index, trend_status, box_low, box_high)"
   ]
  },
  {
   "cell_type": "code",
   "execution_count": 245,
   "id": "079e2ce6",
   "metadata": {},
   "outputs": [
    {
     "name": "stdout",
     "output_type": "stream",
     "text": [
      "[ 1.  1. -1. -1.  1.] [36. 36. 37. 37. 38.] [38. 40. 39. 39. 40.]\n"
     ]
    }
   ],
   "source": [
    "print(trend_status, box_low, box_high)"
   ]
  },
  {
   "cell_type": "markdown",
   "id": "b1580e5e",
   "metadata": {},
   "source": [
    "## Printing the PnF chart"
   ]
  },
  {
   "cell_type": "code",
   "execution_count": 345,
   "id": "2a55520a",
   "metadata": {},
   "outputs": [
    {
     "data": {
      "text/html": [
       "<div>\n",
       "<style scoped>\n",
       "    .dataframe tbody tr th:only-of-type {\n",
       "        vertical-align: middle;\n",
       "    }\n",
       "\n",
       "    .dataframe tbody tr th {\n",
       "        vertical-align: top;\n",
       "    }\n",
       "\n",
       "    .dataframe thead th {\n",
       "        text-align: right;\n",
       "    }\n",
       "</style>\n",
       "<table border=\"1\" class=\"dataframe\">\n",
       "  <thead>\n",
       "    <tr style=\"text-align: right;\">\n",
       "      <th></th>\n",
       "      <th>trend_status</th>\n",
       "      <th>range_low</th>\n",
       "      <th>range_high</th>\n",
       "    </tr>\n",
       "  </thead>\n",
       "  <tbody>\n",
       "    <tr>\n",
       "      <th>0</th>\n",
       "      <td>1.0</td>\n",
       "      <td>36.0</td>\n",
       "      <td>38.0</td>\n",
       "    </tr>\n",
       "    <tr>\n",
       "      <th>1</th>\n",
       "      <td>1.0</td>\n",
       "      <td>36.0</td>\n",
       "      <td>40.0</td>\n",
       "    </tr>\n",
       "    <tr>\n",
       "      <th>2</th>\n",
       "      <td>-1.0</td>\n",
       "      <td>37.0</td>\n",
       "      <td>39.0</td>\n",
       "    </tr>\n",
       "    <tr>\n",
       "      <th>3</th>\n",
       "      <td>-1.0</td>\n",
       "      <td>37.0</td>\n",
       "      <td>39.0</td>\n",
       "    </tr>\n",
       "    <tr>\n",
       "      <th>4</th>\n",
       "      <td>1.0</td>\n",
       "      <td>38.0</td>\n",
       "      <td>40.0</td>\n",
       "    </tr>\n",
       "  </tbody>\n",
       "</table>\n",
       "</div>"
      ],
      "text/plain": [
       "   trend_status  range_low  range_high\n",
       "0           1.0       36.0        38.0\n",
       "1           1.0       36.0        40.0\n",
       "2          -1.0       37.0        39.0\n",
       "3          -1.0       37.0        39.0\n",
       "4           1.0       38.0        40.0"
      ]
     },
     "execution_count": 345,
     "metadata": {},
     "output_type": "execute_result"
    }
   ],
   "source": [
    "pnf_data = pd.DataFrame({'trend_status': trend_status, 'range_low': box_low, 'range_high': box_high})\n",
    "pnf_data"
   ]
  },
  {
   "cell_type": "code",
   "execution_count": 346,
   "id": "171b1276",
   "metadata": {},
   "outputs": [
    {
     "data": {
      "text/plain": [
       "array([False,  True, False,  True])"
      ]
     },
     "execution_count": 346,
     "metadata": {},
     "output_type": "execute_result"
    }
   ],
   "source": [
    "(np.diff(np.sign(trend_status)) != 0)"
   ]
  },
  {
   "cell_type": "code",
   "execution_count": 255,
   "id": "a21dbb47",
   "metadata": {},
   "outputs": [],
   "source": [
    "# We plot a column each time the bool array is True (note: it's shifted up), then for the last row\n",
    "# TODO generate columns using np.diff"
   ]
  },
  {
   "cell_type": "code",
   "execution_count": 371,
   "id": "8dfa9a20",
   "metadata": {},
   "outputs": [
    {
     "data": {
      "text/html": [
       "<div>\n",
       "<style scoped>\n",
       "    .dataframe tbody tr th:only-of-type {\n",
       "        vertical-align: middle;\n",
       "    }\n",
       "\n",
       "    .dataframe tbody tr th {\n",
       "        vertical-align: top;\n",
       "    }\n",
       "\n",
       "    .dataframe thead th {\n",
       "        text-align: right;\n",
       "    }\n",
       "</style>\n",
       "<table border=\"1\" class=\"dataframe\">\n",
       "  <thead>\n",
       "    <tr style=\"text-align: right;\">\n",
       "      <th></th>\n",
       "      <th>trend_status</th>\n",
       "      <th>range_low</th>\n",
       "      <th>range_high</th>\n",
       "    </tr>\n",
       "  </thead>\n",
       "  <tbody>\n",
       "    <tr>\n",
       "      <th>0</th>\n",
       "      <td>1.0</td>\n",
       "      <td>36.0</td>\n",
       "      <td>38.0</td>\n",
       "    </tr>\n",
       "    <tr>\n",
       "      <th>1</th>\n",
       "      <td>1.0</td>\n",
       "      <td>36.0</td>\n",
       "      <td>40.0</td>\n",
       "    </tr>\n",
       "    <tr>\n",
       "      <th>2</th>\n",
       "      <td>-1.0</td>\n",
       "      <td>37.0</td>\n",
       "      <td>39.0</td>\n",
       "    </tr>\n",
       "    <tr>\n",
       "      <th>3</th>\n",
       "      <td>-1.0</td>\n",
       "      <td>37.0</td>\n",
       "      <td>39.0</td>\n",
       "    </tr>\n",
       "  </tbody>\n",
       "</table>\n",
       "</div>"
      ],
      "text/plain": [
       "   trend_status  range_low  range_high\n",
       "0           1.0       36.0        38.0\n",
       "1           1.0       36.0        40.0\n",
       "2          -1.0       37.0        39.0\n",
       "3          -1.0       37.0        39.0"
      ]
     },
     "execution_count": 371,
     "metadata": {},
     "output_type": "execute_result"
    }
   ],
   "source": [
    "pnf_data_A = pnf_data[:-1].copy()\n",
    "pnf_data_B = pnf_data[-1:].copy()\n",
    "pnf_data_A"
   ]
  },
  {
   "cell_type": "code",
   "execution_count": 372,
   "id": "bdb845af",
   "metadata": {},
   "outputs": [
    {
     "data": {
      "text/html": [
       "<div>\n",
       "<style scoped>\n",
       "    .dataframe tbody tr th:only-of-type {\n",
       "        vertical-align: middle;\n",
       "    }\n",
       "\n",
       "    .dataframe tbody tr th {\n",
       "        vertical-align: top;\n",
       "    }\n",
       "\n",
       "    .dataframe thead th {\n",
       "        text-align: right;\n",
       "    }\n",
       "</style>\n",
       "<table border=\"1\" class=\"dataframe\">\n",
       "  <thead>\n",
       "    <tr style=\"text-align: right;\">\n",
       "      <th></th>\n",
       "      <th>trend_status</th>\n",
       "      <th>range_low</th>\n",
       "      <th>range_high</th>\n",
       "    </tr>\n",
       "  </thead>\n",
       "  <tbody>\n",
       "    <tr>\n",
       "      <th>4</th>\n",
       "      <td>1.0</td>\n",
       "      <td>38.0</td>\n",
       "      <td>40.0</td>\n",
       "    </tr>\n",
       "  </tbody>\n",
       "</table>\n",
       "</div>"
      ],
      "text/plain": [
       "   trend_status  range_low  range_high\n",
       "4           1.0       38.0        40.0"
      ]
     },
     "execution_count": 372,
     "metadata": {},
     "output_type": "execute_result"
    }
   ],
   "source": [
    "pnf_data_B"
   ]
  },
  {
   "cell_type": "code",
   "execution_count": 373,
   "id": "42f51120",
   "metadata": {
    "scrolled": true
   },
   "outputs": [
    {
     "data": {
      "text/html": [
       "<div>\n",
       "<style scoped>\n",
       "    .dataframe tbody tr th:only-of-type {\n",
       "        vertical-align: middle;\n",
       "    }\n",
       "\n",
       "    .dataframe tbody tr th {\n",
       "        vertical-align: top;\n",
       "    }\n",
       "\n",
       "    .dataframe thead th {\n",
       "        text-align: right;\n",
       "    }\n",
       "</style>\n",
       "<table border=\"1\" class=\"dataframe\">\n",
       "  <thead>\n",
       "    <tr style=\"text-align: right;\">\n",
       "      <th></th>\n",
       "      <th>trend_status</th>\n",
       "      <th>range_low</th>\n",
       "      <th>range_high</th>\n",
       "      <th>change</th>\n",
       "    </tr>\n",
       "  </thead>\n",
       "  <tbody>\n",
       "    <tr>\n",
       "      <th>0</th>\n",
       "      <td>1.0</td>\n",
       "      <td>36.0</td>\n",
       "      <td>38.0</td>\n",
       "      <td>False</td>\n",
       "    </tr>\n",
       "    <tr>\n",
       "      <th>1</th>\n",
       "      <td>1.0</td>\n",
       "      <td>36.0</td>\n",
       "      <td>40.0</td>\n",
       "      <td>True</td>\n",
       "    </tr>\n",
       "    <tr>\n",
       "      <th>2</th>\n",
       "      <td>-1.0</td>\n",
       "      <td>37.0</td>\n",
       "      <td>39.0</td>\n",
       "      <td>False</td>\n",
       "    </tr>\n",
       "    <tr>\n",
       "      <th>3</th>\n",
       "      <td>-1.0</td>\n",
       "      <td>37.0</td>\n",
       "      <td>39.0</td>\n",
       "      <td>True</td>\n",
       "    </tr>\n",
       "  </tbody>\n",
       "</table>\n",
       "</div>"
      ],
      "text/plain": [
       "   trend_status  range_low  range_high  change\n",
       "0           1.0       36.0        38.0   False\n",
       "1           1.0       36.0        40.0    True\n",
       "2          -1.0       37.0        39.0   False\n",
       "3          -1.0       37.0        39.0    True"
      ]
     },
     "execution_count": 373,
     "metadata": {},
     "output_type": "execute_result"
    }
   ],
   "source": [
    "pnf_data_A['change'] = (np.diff(np.sign(trend_status)) != 0)\n",
    "pnf_data_A"
   ]
  },
  {
   "cell_type": "code",
   "execution_count": 398,
   "id": "7957e3d9",
   "metadata": {},
   "outputs": [
    {
     "name": "stdout",
     "output_type": "stream",
     "text": [
      "[(1.0, array([36, 37, 38, 39, 40])), (-1.0, array([37, 38, 39])), (1.0, array([38, 39, 40]))]\n"
     ]
    }
   ],
   "source": [
    "ranges = []\n",
    "trends = []\n",
    "scale = scale\n",
    "\n",
    "for row in pnf_data_A.iterrows():\n",
    "    row = row[1]\n",
    "    if row['change']:\n",
    "        col_range = generate_column_range(scale, row['range_low'], row['range_high'])\n",
    "        ranges.append(col_range)\n",
    "        trends.append(row['trend_status'])\n",
    "\n",
    "col_range = generate_column_range(scale, pnf_data_B['range_low'].array[0], pnf_data_B['range_high'].array[0])\n",
    "ranges.append(col_range)\n",
    "trends.append(pnf_data_B['trend_status'].array[0])\n",
    "\n",
    "columns = list(zip(trends, ranges))\n",
    "\n",
    "print(columns)"
   ]
  },
  {
   "cell_type": "code",
   "execution_count": 397,
   "id": "3b4a5d8e",
   "metadata": {},
   "outputs": [
    {
     "name": "stdout",
     "output_type": "stream",
     "text": [
      "42.......42\n",
      "41.......41\n",
      "40..X.X..40\n",
      "39..XOX..39\n",
      "38..XOX..38\n",
      "37..XO...37\n",
      "36..X....36\n",
      "35.......35\n",
      "34.......34\n",
      "33.......33\n",
      "32.......32\n",
      "\n"
     ]
    }
   ],
   "source": [
    "print(chart_grid(scale, columns))"
   ]
  },
  {
   "cell_type": "code",
   "execution_count": 399,
   "id": "27c2f892",
   "metadata": {},
   "outputs": [
    {
     "name": "stdout",
     "output_type": "stream",
     "text": [
      "[32 33 34 35 36 37 38 39 40 41 42] [(1, array([36, 37, 38, 39, 40])), (-1, array([37, 38, 39])), (1, array([38, 39, 40]))]\n",
      "42.......42\n",
      "41.......41\n",
      "40..X.X..40\n",
      "39..XOX..39\n",
      "38..XOX..38\n",
      "37..XO...37\n",
      "36..X....36\n",
      "35.......35\n",
      "34.......34\n",
      "33.......33\n",
      "32.......32\n",
      "\n"
     ]
    }
   ],
   "source": [
    "# test code\n",
    "# We pass to the plot function a list of range arrays, with a list of trend statuses of the same length\n",
    "\n",
    "ranges = []\n",
    "trends = []\n",
    "scale = scale\n",
    "\n",
    "r1 = scale[np.logical_and(scale>=36, scale<=40)]\n",
    "ranges.append(r1)\n",
    "trends.append(1)\n",
    "\n",
    "r2 = scale[np.logical_and(scale>=37, scale<=39)]\n",
    "ranges.append(r2)\n",
    "trends.append(-1)\n",
    "\n",
    "r3 = scale[np.logical_and(scale>=38, scale<=40)]\n",
    "ranges.append(r3)\n",
    "trends.append(1)\n",
    "\n",
    "columns =list(zip(trends, ranges))\n",
    "\n",
    "print(scale, columns)\n",
    "print(chart_grid(scale, columns))"
   ]
  },
  {
   "cell_type": "code",
   "execution_count": null,
   "id": "518646f2",
   "metadata": {},
   "outputs": [],
   "source": []
  }
 ],
 "metadata": {
  "kernelspec": {
   "display_name": "Python 3 (ipykernel)",
   "language": "python",
   "name": "python3"
  },
  "language_info": {
   "codemirror_mode": {
    "name": "ipython",
    "version": 3
   },
   "file_extension": ".py",
   "mimetype": "text/x-python",
   "name": "python",
   "nbconvert_exporter": "python",
   "pygments_lexer": "ipython3",
   "version": "3.9.12"
  }
 },
 "nbformat": 4,
 "nbformat_minor": 5
}
