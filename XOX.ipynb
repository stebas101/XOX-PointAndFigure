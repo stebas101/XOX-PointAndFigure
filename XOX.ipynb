{
 "cells": [
  {
   "cell_type": "code",
   "execution_count": 1,
   "id": "66ecf08a",
   "metadata": {},
   "outputs": [
    {
     "name": "stdout",
     "output_type": "stream",
     "text": [
      "Python version: 3.9.12 (main, Apr  5 2022, 01:53:17) \n",
      "[Clang 12.0.0 ]\n",
      "pandas version: 1.4.2\n",
      "numpy version: 1.22.3\n"
     ]
    }
   ],
   "source": [
    "import numpy as np\n",
    "import pandas as pd\n",
    "\n",
    "import sys\n",
    "print(f\"Python version: {sys.version}\")\n",
    "print(f\"pandas version: {pd.__version__}\")\n",
    "print(f\"numpy version: {np.__version__}\")"
   ]
  },
  {
   "cell_type": "code",
   "execution_count": 2,
   "id": "b046721d",
   "metadata": {},
   "outputs": [
    {
     "data": {
      "text/html": [
       "<div>\n",
       "<style scoped>\n",
       "    .dataframe tbody tr th:only-of-type {\n",
       "        vertical-align: middle;\n",
       "    }\n",
       "\n",
       "    .dataframe tbody tr th {\n",
       "        vertical-align: top;\n",
       "    }\n",
       "\n",
       "    .dataframe thead th {\n",
       "        text-align: right;\n",
       "    }\n",
       "</style>\n",
       "<table border=\"1\" class=\"dataframe\">\n",
       "  <thead>\n",
       "    <tr style=\"text-align: right;\">\n",
       "      <th></th>\n",
       "      <th>Date</th>\n",
       "      <th>Open</th>\n",
       "      <th>High</th>\n",
       "      <th>Low</th>\n",
       "      <th>Close</th>\n",
       "      <th>Volume</th>\n",
       "    </tr>\n",
       "  </thead>\n",
       "  <tbody>\n",
       "    <tr>\n",
       "      <th>0</th>\n",
       "      <td>2001-01-01</td>\n",
       "      <td>37.25</td>\n",
       "      <td>38.25</td>\n",
       "      <td>35.75</td>\n",
       "      <td>37.50</td>\n",
       "      <td>1234000</td>\n",
       "    </tr>\n",
       "    <tr>\n",
       "      <th>1</th>\n",
       "      <td>2001-01-02</td>\n",
       "      <td>39.50</td>\n",
       "      <td>40.12</td>\n",
       "      <td>39.25</td>\n",
       "      <td>40.00</td>\n",
       "      <td>1567000</td>\n",
       "    </tr>\n",
       "    <tr>\n",
       "      <th>2</th>\n",
       "      <td>2001-01-03</td>\n",
       "      <td>37.50</td>\n",
       "      <td>38.50</td>\n",
       "      <td>37.00</td>\n",
       "      <td>37.25</td>\n",
       "      <td>1456000</td>\n",
       "    </tr>\n",
       "    <tr>\n",
       "      <th>3</th>\n",
       "      <td>2001-01-04</td>\n",
       "      <td>37.00</td>\n",
       "      <td>37.50</td>\n",
       "      <td>36.50</td>\n",
       "      <td>37.00</td>\n",
       "      <td>1789000</td>\n",
       "    </tr>\n",
       "    <tr>\n",
       "      <th>4</th>\n",
       "      <td>2001-01-05</td>\n",
       "      <td>37.00</td>\n",
       "      <td>40.25</td>\n",
       "      <td>37.00</td>\n",
       "      <td>39.00</td>\n",
       "      <td>2345000</td>\n",
       "    </tr>\n",
       "  </tbody>\n",
       "</table>\n",
       "</div>"
      ],
      "text/plain": [
       "         Date   Open   High    Low  Close   Volume\n",
       "0  2001-01-01  37.25  38.25  35.75  37.50  1234000\n",
       "1  2001-01-02  39.50  40.12  39.25  40.00  1567000\n",
       "2  2001-01-03  37.50  38.50  37.00  37.25  1456000\n",
       "3  2001-01-04  37.00  37.50  36.50  37.00  1789000\n",
       "4  2001-01-05  37.00  40.25  37.00  39.00  2345000"
      ]
     },
     "execution_count": 2,
     "metadata": {},
     "output_type": "execute_result"
    }
   ],
   "source": [
    "data = pd.read_csv(\"data/EXP1.csv\")\n",
    "data.head()"
   ]
  },
  {
   "cell_type": "code",
   "execution_count": 3,
   "id": "6cdc6f97",
   "metadata": {},
   "outputs": [
    {
     "data": {
      "text/html": [
       "<div>\n",
       "<style scoped>\n",
       "    .dataframe tbody tr th:only-of-type {\n",
       "        vertical-align: middle;\n",
       "    }\n",
       "\n",
       "    .dataframe tbody tr th {\n",
       "        vertical-align: top;\n",
       "    }\n",
       "\n",
       "    .dataframe thead th {\n",
       "        text-align: right;\n",
       "    }\n",
       "</style>\n",
       "<table border=\"1\" class=\"dataframe\">\n",
       "  <thead>\n",
       "    <tr style=\"text-align: right;\">\n",
       "      <th></th>\n",
       "      <th>Open</th>\n",
       "      <th>High</th>\n",
       "      <th>Low</th>\n",
       "      <th>Close</th>\n",
       "      <th>Volume</th>\n",
       "    </tr>\n",
       "  </thead>\n",
       "  <tbody>\n",
       "    <tr>\n",
       "      <th>count</th>\n",
       "      <td>5.000000</td>\n",
       "      <td>5.000000</td>\n",
       "      <td>5.000000</td>\n",
       "      <td>5.000000</td>\n",
       "      <td>5.000000e+00</td>\n",
       "    </tr>\n",
       "    <tr>\n",
       "      <th>mean</th>\n",
       "      <td>37.650000</td>\n",
       "      <td>38.924000</td>\n",
       "      <td>37.100000</td>\n",
       "      <td>38.150000</td>\n",
       "      <td>1.678200e+06</td>\n",
       "    </tr>\n",
       "    <tr>\n",
       "      <th>std</th>\n",
       "      <td>1.054751</td>\n",
       "      <td>1.209392</td>\n",
       "      <td>1.306235</td>\n",
       "      <td>1.294218</td>\n",
       "      <td>4.230694e+05</td>\n",
       "    </tr>\n",
       "    <tr>\n",
       "      <th>min</th>\n",
       "      <td>37.000000</td>\n",
       "      <td>37.500000</td>\n",
       "      <td>35.750000</td>\n",
       "      <td>37.000000</td>\n",
       "      <td>1.234000e+06</td>\n",
       "    </tr>\n",
       "    <tr>\n",
       "      <th>25%</th>\n",
       "      <td>37.000000</td>\n",
       "      <td>38.250000</td>\n",
       "      <td>36.500000</td>\n",
       "      <td>37.250000</td>\n",
       "      <td>1.456000e+06</td>\n",
       "    </tr>\n",
       "    <tr>\n",
       "      <th>50%</th>\n",
       "      <td>37.250000</td>\n",
       "      <td>38.500000</td>\n",
       "      <td>37.000000</td>\n",
       "      <td>37.500000</td>\n",
       "      <td>1.567000e+06</td>\n",
       "    </tr>\n",
       "    <tr>\n",
       "      <th>75%</th>\n",
       "      <td>37.500000</td>\n",
       "      <td>40.120000</td>\n",
       "      <td>37.000000</td>\n",
       "      <td>39.000000</td>\n",
       "      <td>1.789000e+06</td>\n",
       "    </tr>\n",
       "    <tr>\n",
       "      <th>max</th>\n",
       "      <td>39.500000</td>\n",
       "      <td>40.250000</td>\n",
       "      <td>39.250000</td>\n",
       "      <td>40.000000</td>\n",
       "      <td>2.345000e+06</td>\n",
       "    </tr>\n",
       "  </tbody>\n",
       "</table>\n",
       "</div>"
      ],
      "text/plain": [
       "            Open       High        Low      Close        Volume\n",
       "count   5.000000   5.000000   5.000000   5.000000  5.000000e+00\n",
       "mean   37.650000  38.924000  37.100000  38.150000  1.678200e+06\n",
       "std     1.054751   1.209392   1.306235   1.294218  4.230694e+05\n",
       "min    37.000000  37.500000  35.750000  37.000000  1.234000e+06\n",
       "25%    37.000000  38.250000  36.500000  37.250000  1.456000e+06\n",
       "50%    37.250000  38.500000  37.000000  37.500000  1.567000e+06\n",
       "75%    37.500000  40.120000  37.000000  39.000000  1.789000e+06\n",
       "max    39.500000  40.250000  39.250000  40.000000  2.345000e+06"
      ]
     },
     "execution_count": 3,
     "metadata": {},
     "output_type": "execute_result"
    }
   ],
   "source": [
    "data.describe()"
   ]
  },
  {
   "cell_type": "code",
   "execution_count": 4,
   "id": "8116907e",
   "metadata": {},
   "outputs": [
    {
     "name": "stdout",
     "output_type": "stream",
     "text": [
      "<class 'pandas.core.frame.DataFrame'>\n",
      "RangeIndex: 5 entries, 0 to 4\n",
      "Data columns (total 6 columns):\n",
      " #   Column  Non-Null Count  Dtype  \n",
      "---  ------  --------------  -----  \n",
      " 0   Date    5 non-null      object \n",
      " 1   Open    5 non-null      float64\n",
      " 2   High    5 non-null      float64\n",
      " 3   Low     5 non-null      float64\n",
      " 4   Close   5 non-null      float64\n",
      " 5   Volume  5 non-null      int64  \n",
      "dtypes: float64(4), int64(1), object(1)\n",
      "memory usage: 368.0+ bytes\n"
     ]
    }
   ],
   "source": [
    "data.info()"
   ]
  },
  {
   "cell_type": "code",
   "execution_count": 5,
   "id": "479fd5d4",
   "metadata": {},
   "outputs": [],
   "source": [
    "price_data = data[['High','Low','Close']]"
   ]
  },
  {
   "cell_type": "code",
   "execution_count": 6,
   "id": "bb7ee322",
   "metadata": {},
   "outputs": [
    {
     "data": {
      "text/html": [
       "<div>\n",
       "<style scoped>\n",
       "    .dataframe tbody tr th:only-of-type {\n",
       "        vertical-align: middle;\n",
       "    }\n",
       "\n",
       "    .dataframe tbody tr th {\n",
       "        vertical-align: top;\n",
       "    }\n",
       "\n",
       "    .dataframe thead th {\n",
       "        text-align: right;\n",
       "    }\n",
       "</style>\n",
       "<table border=\"1\" class=\"dataframe\">\n",
       "  <thead>\n",
       "    <tr style=\"text-align: right;\">\n",
       "      <th></th>\n",
       "      <th>High</th>\n",
       "      <th>Low</th>\n",
       "      <th>Close</th>\n",
       "    </tr>\n",
       "  </thead>\n",
       "  <tbody>\n",
       "    <tr>\n",
       "      <th>0</th>\n",
       "      <td>38.25</td>\n",
       "      <td>35.75</td>\n",
       "      <td>37.50</td>\n",
       "    </tr>\n",
       "    <tr>\n",
       "      <th>1</th>\n",
       "      <td>40.12</td>\n",
       "      <td>39.25</td>\n",
       "      <td>40.00</td>\n",
       "    </tr>\n",
       "    <tr>\n",
       "      <th>2</th>\n",
       "      <td>38.50</td>\n",
       "      <td>37.00</td>\n",
       "      <td>37.25</td>\n",
       "    </tr>\n",
       "    <tr>\n",
       "      <th>3</th>\n",
       "      <td>37.50</td>\n",
       "      <td>36.50</td>\n",
       "      <td>37.00</td>\n",
       "    </tr>\n",
       "    <tr>\n",
       "      <th>4</th>\n",
       "      <td>40.25</td>\n",
       "      <td>37.00</td>\n",
       "      <td>39.00</td>\n",
       "    </tr>\n",
       "  </tbody>\n",
       "</table>\n",
       "</div>"
      ],
      "text/plain": [
       "    High    Low  Close\n",
       "0  38.25  35.75  37.50\n",
       "1  40.12  39.25  40.00\n",
       "2  38.50  37.00  37.25\n",
       "3  37.50  36.50  37.00\n",
       "4  40.25  37.00  39.00"
      ]
     },
     "execution_count": 6,
     "metadata": {},
     "output_type": "execute_result"
    }
   ],
   "source": [
    "price_data.head()"
   ]
  },
  {
   "cell_type": "markdown",
   "id": "5dd35a36",
   "metadata": {},
   "source": [
    "Two methods for populating charts:\n",
    "\n",
    "- **High and Low** price: whenever H and L are available\n",
    "- **Last/Close** price: for illiquid assets (or indices). Also for intraday trading using realtime data\n",
    "\n",
    "Scale types:\n",
    "\n",
    "- Constant size boxes\n",
    "- Variable size boxes"
   ]
  },
  {
   "cell_type": "code",
   "execution_count": 8,
   "id": "9f718397",
   "metadata": {},
   "outputs": [],
   "source": [
    "def init_pnf(scale,\n",
    "             high,\n",
    "             low,\n",
    "             close,\n",
    "             reversal_size,\n",
    "             box_range=[]):\n",
    "    '''\n",
    "    returns status as num value and box_range as array\n",
    "    '''\n",
    "    \n",
    "    if len(box_range) == 0:\n",
    "        box_range = scale[np.logical_and(scale>=low, scale<=high)]\n",
    "    else:\n",
    "        # simplify logic using max()\n",
    "        if high > box_range.max():\n",
    "            box_range = scale[np.logical_and(scale>=box_range.min(), scale<=high)]\n",
    "        if low < box_range.min():\n",
    "            box_range = scale[np.logical_and(scale<=box_range.max(), scale>=low)]\n",
    "        \n",
    "    # check definition of mid_price\n",
    "    mid_price = box_range.min() + (box_range.max() - box_range.min())/2\n",
    "\n",
    "    if len(box_range) >= reversal_size and close > mid_price:\n",
    "        status = 1\n",
    "    elif len(box_range) >= reversal_size and close < mid_price:\n",
    "        status = -1\n",
    "    else:\n",
    "        status = 0\n",
    "        \n",
    "    return status, box_range"
   ]
  },
  {
   "cell_type": "code",
   "execution_count": 10,
   "id": "0ab632cc",
   "metadata": {},
   "outputs": [],
   "source": [
    "# checking init_pnf() on the 1st line of data:\n",
    "\n",
    "box_size = 1\n",
    "reversal_size = 3\n",
    "scale = np.arange(start=30, stop=49, step = box_size)\n",
    "\n",
    "high = 38.75\n",
    "low = 35.75\n",
    "close = 37.00\n",
    "\n",
    "status, box_range = init_pnf(scale, high, low, close, reversal_size)"
   ]
  },
  {
   "cell_type": "code",
   "execution_count": 11,
   "id": "2dae9cd9",
   "metadata": {},
   "outputs": [
    {
     "data": {
      "text/plain": [
       "array([36, 37, 38])"
      ]
     },
     "execution_count": 11,
     "metadata": {},
     "output_type": "execute_result"
    }
   ],
   "source": [
    "box_range"
   ]
  },
  {
   "cell_type": "code",
   "execution_count": 12,
   "id": "4da71c12",
   "metadata": {},
   "outputs": [
    {
     "data": {
      "text/plain": [
       "array([30, 31, 32, 33, 34, 35, 36, 37, 38, 39, 40, 41, 42, 43, 44, 45, 46,\n",
       "       47, 48])"
      ]
     },
     "execution_count": 12,
     "metadata": {},
     "output_type": "execute_result"
    }
   ],
   "source": [
    "scale"
   ]
  },
  {
   "cell_type": "code",
   "execution_count": 59,
   "id": "d7f99a9e",
   "metadata": {},
   "outputs": [
    {
     "data": {
      "text/plain": [
       "(1, array([36, 37, 38, 39]))"
      ]
     },
     "execution_count": 59,
     "metadata": {},
     "output_type": "execute_result"
    }
   ],
   "source": [
    "# checking init_pnf() on subsequent lines of data (when status==0)\n",
    "\n",
    "high = 39.25\n",
    "low = 35.01\n",
    "close = 38\n",
    "\n",
    "init_pnf(scale, high, low, close, reversal_size, box_range)"
   ]
  },
  {
   "cell_type": "code",
   "execution_count": 60,
   "id": "e985c108",
   "metadata": {},
   "outputs": [],
   "source": [
    "# initialise status and box arrays:\n",
    "trend_status = np.zeros(len(price_data))\n",
    "box_low = np.zeros(len(price_data))\n",
    "box_high = np.zeros(len(price_data))"
   ]
  },
  {
   "cell_type": "code",
   "execution_count": 62,
   "id": "f8d21c30",
   "metadata": {},
   "outputs": [
    {
     "name": "stdout",
     "output_type": "stream",
     "text": [
      "0 [1. 0. 0. 0. 0.] [36.  0.  0.  0.  0.] [38.  0.  0.  0.  0.]\n"
     ]
    }
   ],
   "source": [
    "# Initialise the chart until a status (+/-)1 is reached\n",
    "for index, row in enumerate(price_data.iterrows()):\n",
    "    high = row[1]['High']\n",
    "    low = row[1]['Low']\n",
    "    close = row[1]['Close']\n",
    "    status, box_range = init_pnf(scale, high, low, close, reversal_size, box_range)\n",
    "    trend_status[index] = status\n",
    "    box_low[index] = box_range.min()\n",
    "    box_high[index] = box_range.max()\n",
    "    if status != 0:\n",
    "        break\n",
    "\n",
    "# status can still be 0! create an example for testing\n",
    "print(index, trend_status, box_low, box_high)"
   ]
  },
  {
   "cell_type": "markdown",
   "id": "a6081d8e",
   "metadata": {},
   "source": [
    "To obtain the range again given min and max:"
   ]
  },
  {
   "cell_type": "code",
   "execution_count": 22,
   "id": "fb29e9a4",
   "metadata": {},
   "outputs": [
    {
     "data": {
      "text/plain": [
       "array([36, 37, 38])"
      ]
     },
     "execution_count": 22,
     "metadata": {},
     "output_type": "execute_result"
    }
   ],
   "source": [
    "scale[np.logical_and(scale>=36, scale<=38)]"
   ]
  },
  {
   "cell_type": "code",
   "execution_count": 64,
   "id": "fa4aba33",
   "metadata": {},
   "outputs": [
    {
     "name": "stdout",
     "output_type": "stream",
     "text": [
      "[36 37 38] [36 37 38] [36 37] 1\n"
     ]
    }
   ],
   "source": [
    "# testing reversal logic\n",
    "\n",
    "box_range = np.array([36, 37, 38])\n",
    "status = 1\n",
    "scale = scale\n",
    "reversal_size = 3\n",
    "\n",
    "high = 38.5\n",
    "low = 35.5\n",
    "box_low = box_range.min()\n",
    "box_high = box_range.max()\n",
    "\n",
    "box_reverse = []\n",
    "# this can be simplified into one line using max()\n",
    "# new range with extensions on both sides:\n",
    "if high > box_high:\n",
    "    box_range_new = scale[np.logical_and(scale>=box_low, scale<=high)]\n",
    "if low < box_range.min():\n",
    "    box_range_new = scale[np.logical_and(scale<=box_high, scale>=low)]\n",
    "\n",
    "# we actually need only box_high_new and box_low_new\n",
    "# box_high_new = box_range_new.max()\n",
    "# box_low_new = box_range_new.min()\n",
    "\n",
    "if status == 1:\n",
    "    # we 1st check for extensions on the upside\n",
    "    if box_range_new.max() > box_high:\n",
    "        # extend range up:\n",
    "        box_range = scale[np.logical_and(scale>=box_low, scale<=box_range_new.max())]\n",
    "    # if no extension, check for reversal:\n",
    "    elif low < box_high:\n",
    "        box_reverse = scale[np.logical_and(scale>=low, scale<=box_high)][:-1]\n",
    "\n",
    "if status == -1:\n",
    "    # we 1st check for extensions on the downside\n",
    "    if box_range_new.min() < box_low:\n",
    "        # extend range down:\n",
    "        box_range = scale[np.logical_and(scale>=box_range_new.min(), scale<=box_high)]\n",
    "    # if no extension, check for reversal:\n",
    "    elif high > box_low:\n",
    "        box_reverse = scale[np.logical_and(scale>=box_low, scale<=high)][1:]\n",
    "\n",
    "if len(box_reverse) >= reversal_size:\n",
    "    status *= -1 # reverse status\n",
    "#     box_range = box_reverse\n",
    "    \n",
    "print(box_range, box_range_new, box_reverse, status)"
   ]
  },
  {
   "cell_type": "markdown",
   "id": "c2617303",
   "metadata": {},
   "source": [
    "We then implement the logic into a update_pnf() function:"
   ]
  },
  {
   "cell_type": "code",
   "execution_count": 14,
   "id": "34183d10",
   "metadata": {},
   "outputs": [
    {
     "ename": "IndentationError",
     "evalue": "expected an indented block (270733341.py, line 7)",
     "output_type": "error",
     "traceback": [
      "\u001b[0;36m  Input \u001b[0;32mIn [14]\u001b[0;36m\u001b[0m\n\u001b[0;31m    return status, box_range\u001b[0m\n\u001b[0m    ^\u001b[0m\n\u001b[0;31mIndentationError\u001b[0m\u001b[0;31m:\u001b[0m expected an indented block\n"
     ]
    }
   ],
   "source": [
    "def update_pnf(scale,\n",
    "               high,\n",
    "               low,\n",
    "               status,\n",
    "               reversal_size,\n",
    "               box_low,\n",
    "               box_high):\n",
    "    '''\n",
    "    updates the chart once the trend status is defined\n",
    "    returns status and box_range for the day\n",
    "    '''\n",
    "    box_range = scale[np.logical_and(scale>=box_low, scale<=box_high)] # needed in case we return the previous range\n",
    "    box_reverse = []\n",
    "    # new temporary box range with extensions on both sides:\n",
    "    \n",
    "    if status == 1:\n",
    "        # check for upper extensions, else for reversals\n",
    "\n",
    "            # check for reversal\n",
    "            # research condition\n",
    "            # change status and new range\n",
    "#             box_range_temp\n",
    "                \n",
    "    \n",
    "    if status == -1:\n",
    "\n",
    "            #check for reversal\n",
    "            #update status\n",
    "#             box_range_temp\n",
    "            \n",
    "    if len(box_range_temp) >= reversal_size:\n",
    "        status *= -1 # reverse status\n",
    "        box_range = box_range_temp # update box_range\n",
    "            \n",
    "    return status, box_range"
   ]
  },
  {
   "cell_type": "markdown",
   "id": "c16ab06e",
   "metadata": {},
   "source": [
    "Below we want to run the chart functions on the available data:"
   ]
  },
  {
   "cell_type": "code",
   "execution_count": 63,
   "id": "1a0139e6",
   "metadata": {},
   "outputs": [
    {
     "data": {
      "text/plain": [
       "True"
      ]
     },
     "execution_count": 63,
     "metadata": {},
     "output_type": "execute_result"
    }
   ],
   "source": [
    "# check there are more lines of data\n",
    "index + 1 < len(price_data)"
   ]
  },
  {
   "cell_type": "code",
   "execution_count": null,
   "id": "d35526f3",
   "metadata": {},
   "outputs": [],
   "source": [
    "status = 0\n",
    "box_range = []\n",
    "for row in price_data.iterrows():\n",
    "    high = row[1]['High']\n",
    "    low = row[1]['Low']\n",
    "    close = row[1]['Close']\n",
    "    status, box_range = init_pnf(scale, high, low, close, reversal_size, box_range)\n",
    "    if status != 0:\n",
    "        print(row[0], status, box_range)\n",
    "        break"
   ]
  },
  {
   "cell_type": "code",
   "execution_count": 57,
   "id": "b5aa25d3",
   "metadata": {},
   "outputs": [
    {
     "name": "stdout",
     "output_type": "stream",
     "text": [
      "48.........................48\n",
      "47.........................47\n",
      "46.........................46\n",
      "45.........................45\n",
      "44.........................44\n",
      "43.........................43\n",
      "42.........................42\n",
      "41.........................41\n",
      "40.........................40\n",
      "39.........................39\n",
      "38.........................38\n",
      "37.........................37\n",
      "36.........................36\n",
      "35.........................35\n",
      "34.........................34\n",
      "33.........................33\n",
      "32.........................32\n",
      "31.........................31\n",
      "30.........................30\n",
      "\n"
     ]
    }
   ],
   "source": [
    "def chart_grid(scale, columns):\n",
    "    '''\n",
    "    Generates a blank monospace-font grid that can be used as a canvas for the PnF chart\n",
    "    - scale: a np array\n",
    "    - columns: a positive integer\n",
    "    '''\n",
    "    columns = int(columns)\n",
    "    \n",
    "    grid = \"\"\n",
    "\n",
    "    for level in np.flip(scale):\n",
    "        line_price = level\n",
    "        line = f'{line_price}' + '.'*columns + f'{line_price}\\n'\n",
    "        grid += line\n",
    "    return grid\n",
    "\n",
    "print(chart_grid(scale, 25))"
   ]
  },
  {
   "cell_type": "code",
   "execution_count": null,
   "id": "08ff1e74",
   "metadata": {},
   "outputs": [],
   "source": []
  }
 ],
 "metadata": {
  "kernelspec": {
   "display_name": "Python 3 (ipykernel)",
   "language": "python",
   "name": "python3"
  },
  "language_info": {
   "codemirror_mode": {
    "name": "ipython",
    "version": 3
   },
   "file_extension": ".py",
   "mimetype": "text/x-python",
   "name": "python",
   "nbconvert_exporter": "python",
   "pygments_lexer": "ipython3",
   "version": "3.9.12"
  }
 },
 "nbformat": 4,
 "nbformat_minor": 5
}
