{
 "cells": [
  {
   "cell_type": "markdown",
   "id": "75085006",
   "metadata": {},
   "source": [
    "# XOX PnF charts\n",
    "## Development Notes"
   ]
  },
  {
   "cell_type": "markdown",
   "id": "5dd35a36",
   "metadata": {},
   "source": [
    "Two methods for populating charts:\n",
    "\n",
    "- **High and Low** price: whenever H and L are available\n",
    "- **Last/Close** price: for illiquid assets (or indices). Also for intraday trading using realtime data\n",
    "\n",
    "Scale types:\n",
    "\n",
    "- Constant size boxes\n",
    "- Variable size boxes\n",
    "\n",
    "#### Chart creation process:\n",
    "\n",
    "1. Loading data into dataframe - **get_price_data()**\n",
    "2. getting the scale for the chart - **generate_scale()**\n",
    "3. generate a table with rows representing the boxes drawn by a line of data. Each row has a *trend status* (either 1 or -1), a column low and a column high. Those values represent *boxes*, and must be included in the chart scale. This is handled by **get_pnf_ranges()**, which calls **init_pnf()**\n",
    "  * call  **init_pnf()** first\n",
    "  * **update_pnf()**\n",
    "  \n",
    "```\n",
    "get_chart() -> get_price_data()\n",
    "               generate_scale()\n",
    "               get_pnf_ranges() -> init_pnf()\n",
    "                                   update_pnf()\n",
    "               get_pnf_changes()\n",
    "               get_pnf_columns() -> generate_column_range()\n",
    "```"
   ]
  },
  {
   "cell_type": "markdown",
   "id": "eb2469c1",
   "metadata": {},
   "source": [
    "### Preparations"
   ]
  },
  {
   "cell_type": "code",
   "execution_count": 1,
   "id": "66ecf08a",
   "metadata": {},
   "outputs": [
    {
     "name": "stdout",
     "output_type": "stream",
     "text": [
      "Python version: 3.9.12 (main, Apr  5 2022, 01:53:17) \n",
      "[Clang 12.0.0 ]\n",
      "pandas version: 1.4.2\n",
      "numpy version: 1.22.3\n"
     ]
    }
   ],
   "source": [
    "import numpy as np\n",
    "import pandas as pd\n",
    "\n",
    "import sys\n",
    "print(f\"Python version: {sys.version}\")\n",
    "print(f\"pandas version: {pd.__version__}\")\n",
    "print(f\"numpy version: {np.__version__}\")"
   ]
  },
  {
   "cell_type": "code",
   "execution_count": 2,
   "id": "a164c08f",
   "metadata": {},
   "outputs": [],
   "source": [
    "# inputs:\n",
    "data_file = 'EXP1.csv'\n",
    "reversal_size = 3\n",
    "box_size = 1"
   ]
  },
  {
   "cell_type": "code",
   "execution_count": 4,
   "id": "0ec1dd18",
   "metadata": {},
   "outputs": [],
   "source": [
    "chart_params = {\n",
    "    'data_file': data_file,\n",
    "    'reversal_size': reversal_size,\n",
    "    'box_size': box_size\n",
    "}"
   ]
  },
  {
   "cell_type": "code",
   "execution_count": 74,
   "id": "eb3f3435",
   "metadata": {},
   "outputs": [],
   "source": [
    "from xox_pnf.pnfplot import * "
   ]
  },
  {
   "cell_type": "markdown",
   "id": "af2b5527",
   "metadata": {},
   "source": [
    "Functions from pnfplot\n",
    "---------------------------"
   ]
  },
  {
   "cell_type": "code",
   "execution_count": 19,
   "id": "6a29accf",
   "metadata": {},
   "outputs": [],
   "source": [
    "price_data = get_price_data(data_file)"
   ]
  },
  {
   "cell_type": "code",
   "execution_count": 20,
   "id": "0918ee3b",
   "metadata": {},
   "outputs": [
    {
     "name": "stdout",
     "output_type": "stream",
     "text": [
      "<class 'pandas.core.frame.DataFrame'>\n",
      "DatetimeIndex: 5 entries, 2001-01-01 to 2001-01-05\n",
      "Data columns (total 3 columns):\n",
      " #   Column  Non-Null Count  Dtype  \n",
      "---  ------  --------------  -----  \n",
      " 0   High    5 non-null      float64\n",
      " 1   Low     5 non-null      float64\n",
      " 2   Close   5 non-null      float64\n",
      "dtypes: float64(3)\n",
      "memory usage: 160.0 bytes\n"
     ]
    }
   ],
   "source": [
    "price_data.info()"
   ]
  },
  {
   "cell_type": "code",
   "execution_count": 21,
   "id": "3e023604",
   "metadata": {},
   "outputs": [
    {
     "name": "stdout",
     "output_type": "stream",
     "text": [
      "scale array:  [35 36 37 38 39 40 41]\n"
     ]
    }
   ],
   "source": [
    "scale = generate_scale(start=int(np.floor(price_data['Low'].min())),\n",
    "                    end=int(np.ceil(price_data['High'].max())), box_size=box_size)\n",
    "\n",
    "print(\"scale array: \", scale)"
   ]
  },
  {
   "cell_type": "markdown",
   "id": "0a7a87ae",
   "metadata": {},
   "source": [
    "### The next two steps are managed by get_pnf_ranges()"
   ]
  },
  {
   "cell_type": "code",
   "execution_count": null,
   "id": "a5b319ee",
   "metadata": {},
   "outputs": [],
   "source": [
    "# initialise status and box arrays:\n",
    "trend_status = np.zeros(len(price_data))\n",
    "box_low = np.zeros(len(price_data))\n",
    "box_high = np.zeros(len(price_data))\n",
    "\n",
    "# Initialise the chart until a trend status (+/-1) is found\n",
    "box_range = []\n",
    "for index, row in enumerate(price_data.iterrows()):\n",
    "    high = row[1]['High']\n",
    "    low = row[1]['Low']\n",
    "    close = row[1]['Close']\n",
    "    status, box_range = init_pnf(scale, high, low, close, reversal_size, box_range)\n",
    "    print(\"step \", index,\"status \" ,status,\"box range\", box_range)\n",
    "    trend_status[index] = status\n",
    "    box_low[index] = box_range.min()\n",
    "    box_high[index] = box_range.max()\n",
    "    if status != 0:\n",
    "        break"
   ]
  },
  {
   "cell_type": "code",
   "execution_count": null,
   "id": "5739c5c3",
   "metadata": {},
   "outputs": [],
   "source": [
    "print(trend_status, box_range)"
   ]
  },
  {
   "cell_type": "code",
   "execution_count": null,
   "id": "fd23ac08",
   "metadata": {},
   "outputs": [],
   "source": [
    "# update_pnf()"
   ]
  },
  {
   "cell_type": "markdown",
   "id": "0b20834c",
   "metadata": {},
   "source": [
    "### get_pnf_ranges() and get_pnf_changes()"
   ]
  },
  {
   "cell_type": "code",
   "execution_count": 38,
   "id": "da33ee36",
   "metadata": {
    "scrolled": true
   },
   "outputs": [
    {
     "data": {
      "text/html": [
       "<div>\n",
       "<style scoped>\n",
       "    .dataframe tbody tr th:only-of-type {\n",
       "        vertical-align: middle;\n",
       "    }\n",
       "\n",
       "    .dataframe tbody tr th {\n",
       "        vertical-align: top;\n",
       "    }\n",
       "\n",
       "    .dataframe thead th {\n",
       "        text-align: right;\n",
       "    }\n",
       "</style>\n",
       "<table border=\"1\" class=\"dataframe\">\n",
       "  <thead>\n",
       "    <tr style=\"text-align: right;\">\n",
       "      <th></th>\n",
       "      <th>trend_status</th>\n",
       "      <th>range_low</th>\n",
       "      <th>range_high</th>\n",
       "    </tr>\n",
       "  </thead>\n",
       "  <tbody>\n",
       "    <tr>\n",
       "      <th>0</th>\n",
       "      <td>1.0</td>\n",
       "      <td>36.0</td>\n",
       "      <td>38.0</td>\n",
       "    </tr>\n",
       "    <tr>\n",
       "      <th>1</th>\n",
       "      <td>1.0</td>\n",
       "      <td>36.0</td>\n",
       "      <td>40.0</td>\n",
       "    </tr>\n",
       "    <tr>\n",
       "      <th>2</th>\n",
       "      <td>-1.0</td>\n",
       "      <td>37.0</td>\n",
       "      <td>39.0</td>\n",
       "    </tr>\n",
       "    <tr>\n",
       "      <th>3</th>\n",
       "      <td>-1.0</td>\n",
       "      <td>37.0</td>\n",
       "      <td>39.0</td>\n",
       "    </tr>\n",
       "    <tr>\n",
       "      <th>4</th>\n",
       "      <td>1.0</td>\n",
       "      <td>38.0</td>\n",
       "      <td>40.0</td>\n",
       "    </tr>\n",
       "  </tbody>\n",
       "</table>\n",
       "</div>"
      ],
      "text/plain": [
       "   trend_status  range_low  range_high\n",
       "0           1.0       36.0        38.0\n",
       "1           1.0       36.0        40.0\n",
       "2          -1.0       37.0        39.0\n",
       "3          -1.0       37.0        39.0\n",
       "4           1.0       38.0        40.0"
      ]
     },
     "execution_count": 38,
     "metadata": {},
     "output_type": "execute_result"
    }
   ],
   "source": [
    "# This includes a call to init_pnf() as in the previous cell\n",
    "pnf_data = get_pnf_ranges(price_data, scale, reversal_size)\n",
    "pnf_data"
   ]
  },
  {
   "cell_type": "code",
   "execution_count": 39,
   "id": "f567e1cc",
   "metadata": {
    "scrolled": true
   },
   "outputs": [
    {
     "data": {
      "text/html": [
       "<div>\n",
       "<style scoped>\n",
       "    .dataframe tbody tr th:only-of-type {\n",
       "        vertical-align: middle;\n",
       "    }\n",
       "\n",
       "    .dataframe tbody tr th {\n",
       "        vertical-align: top;\n",
       "    }\n",
       "\n",
       "    .dataframe thead th {\n",
       "        text-align: right;\n",
       "    }\n",
       "</style>\n",
       "<table border=\"1\" class=\"dataframe\">\n",
       "  <thead>\n",
       "    <tr style=\"text-align: right;\">\n",
       "      <th></th>\n",
       "      <th>trend_status</th>\n",
       "      <th>range_low</th>\n",
       "      <th>range_high</th>\n",
       "      <th>change</th>\n",
       "    </tr>\n",
       "  </thead>\n",
       "  <tbody>\n",
       "    <tr>\n",
       "      <th>0</th>\n",
       "      <td>1.0</td>\n",
       "      <td>36.0</td>\n",
       "      <td>38.0</td>\n",
       "      <td>False</td>\n",
       "    </tr>\n",
       "    <tr>\n",
       "      <th>1</th>\n",
       "      <td>1.0</td>\n",
       "      <td>36.0</td>\n",
       "      <td>40.0</td>\n",
       "      <td>True</td>\n",
       "    </tr>\n",
       "    <tr>\n",
       "      <th>2</th>\n",
       "      <td>-1.0</td>\n",
       "      <td>37.0</td>\n",
       "      <td>39.0</td>\n",
       "      <td>False</td>\n",
       "    </tr>\n",
       "    <tr>\n",
       "      <th>3</th>\n",
       "      <td>-1.0</td>\n",
       "      <td>37.0</td>\n",
       "      <td>39.0</td>\n",
       "      <td>True</td>\n",
       "    </tr>\n",
       "    <tr>\n",
       "      <th>4</th>\n",
       "      <td>1.0</td>\n",
       "      <td>38.0</td>\n",
       "      <td>40.0</td>\n",
       "      <td>True</td>\n",
       "    </tr>\n",
       "  </tbody>\n",
       "</table>\n",
       "</div>"
      ],
      "text/plain": [
       "   trend_status  range_low  range_high  change\n",
       "0           1.0       36.0        38.0   False\n",
       "1           1.0       36.0        40.0    True\n",
       "2          -1.0       37.0        39.0   False\n",
       "3          -1.0       37.0        39.0    True\n",
       "4           1.0       38.0        40.0    True"
      ]
     },
     "execution_count": 39,
     "metadata": {},
     "output_type": "execute_result"
    }
   ],
   "source": [
    "# Detects change of trend and adds it to time frame\n",
    "# Note that the change column is 'shifted': it's True when a status change is detected on the next price line\n",
    "\n",
    "pnf_data = get_pnf_changes(pnf_data)\n",
    "pnf_data"
   ]
  },
  {
   "cell_type": "markdown",
   "id": "273a9f8d",
   "metadata": {},
   "source": [
    "### Generating the final column arrays"
   ]
  },
  {
   "cell_type": "code",
   "execution_count": 40,
   "id": "07d6baaa",
   "metadata": {},
   "outputs": [
    {
     "data": {
      "text/plain": [
       "[(1.0, array([36, 37, 38, 39, 40])),\n",
       " (-1.0, array([37, 38, 39])),\n",
       " (1.0, array([38, 39, 40]))]"
      ]
     },
     "execution_count": 40,
     "metadata": {},
     "output_type": "execute_result"
    }
   ],
   "source": [
    "# The final chart columns: pairs of trend status and array of boxes\n",
    "columns = get_pnf_columns(pnf_data, scale)\n",
    "columns"
   ]
  },
  {
   "cell_type": "code",
   "execution_count": 41,
   "id": "e0a9c7d1",
   "metadata": {},
   "outputs": [],
   "source": [
    "# The whole process is managed by get_chart():\n",
    "\n",
    "# get_chart()"
   ]
  },
  {
   "cell_type": "markdown",
   "id": "4e5a81d8",
   "metadata": {},
   "source": [
    "## Printing the PnF chart"
   ]
  },
  {
   "cell_type": "code",
   "execution_count": 42,
   "id": "87091abd",
   "metadata": {
    "scrolled": true
   },
   "outputs": [
    {
     "name": "stdout",
     "output_type": "stream",
     "text": [
      "41.......41\n",
      "40..X.X..40\n",
      "39..XOX..39\n",
      "38..XOX..38\n",
      "37..XO...37\n",
      "36..X....36\n",
      "35.......35\n"
     ]
    }
   ],
   "source": [
    "# Using the pnf_text() function to generate pnf as text\n",
    "\n",
    "print(pnf_text(scale,columns))"
   ]
  },
  {
   "cell_type": "code",
   "execution_count": 44,
   "id": "6b3fd5ef",
   "metadata": {},
   "outputs": [
    {
     "data": {
      "text/plain": [
       "str"
      ]
     },
     "execution_count": 44,
     "metadata": {},
     "output_type": "execute_result"
    }
   ],
   "source": [
    "type(pnf_text(scale,columns))"
   ]
  },
  {
   "cell_type": "markdown",
   "id": "b8a1d2b4",
   "metadata": {},
   "source": [
    "## Building the pnf_chart class"
   ]
  },
  {
   "cell_type": "code",
   "execution_count": 75,
   "id": "f91b23d8",
   "metadata": {},
   "outputs": [],
   "source": [
    "class pnf_chart():\n",
    "    \n",
    "    def __init__(self, chart_params):\n",
    "        data_file = chart_params['data_file']\n",
    "        \n",
    "        self.reversal_size = chart_params['reversal_size']\n",
    "        self.box_size = chart_params['box_size']\n",
    "        self.price_data = get_price_data(data_file)\n",
    "        \n",
    "        start = int(np.floor(self.price_data['Low'].min()))\n",
    "        end = end=int(np.ceil(self.price_data['High'].max()))\n",
    "        self.scale = generate_scale(start, end, self.box_size)\n",
    "        \n",
    "        pnf_data = get_pnf_ranges(price_data, scale, reversal_size)\n",
    "        self.pnf_data = get_pnf_changes(pnf_data)\n",
    "        \n",
    "        self.columns = get_pnf_columns(pnf_data, scale)\n",
    "        \n",
    "    def __str__(self):\n",
    "        return pnf_text(self.scale, self.columns)\n",
    "    \n",
    "    def __repr__(self):\n",
    "        return f'PnF chart of {data_file}'"
   ]
  },
  {
   "cell_type": "code",
   "execution_count": 76,
   "id": "ef176331",
   "metadata": {},
   "outputs": [],
   "source": [
    "pnf = pnf_chart(chart_params)"
   ]
  },
  {
   "cell_type": "code",
   "execution_count": 77,
   "id": "769774c2",
   "metadata": {},
   "outputs": [
    {
     "data": {
      "text/html": [
       "<div>\n",
       "<style scoped>\n",
       "    .dataframe tbody tr th:only-of-type {\n",
       "        vertical-align: middle;\n",
       "    }\n",
       "\n",
       "    .dataframe tbody tr th {\n",
       "        vertical-align: top;\n",
       "    }\n",
       "\n",
       "    .dataframe thead th {\n",
       "        text-align: right;\n",
       "    }\n",
       "</style>\n",
       "<table border=\"1\" class=\"dataframe\">\n",
       "  <thead>\n",
       "    <tr style=\"text-align: right;\">\n",
       "      <th></th>\n",
       "      <th>trend_status</th>\n",
       "      <th>range_low</th>\n",
       "      <th>range_high</th>\n",
       "      <th>change</th>\n",
       "    </tr>\n",
       "  </thead>\n",
       "  <tbody>\n",
       "    <tr>\n",
       "      <th>0</th>\n",
       "      <td>1.0</td>\n",
       "      <td>36.0</td>\n",
       "      <td>38.0</td>\n",
       "      <td>False</td>\n",
       "    </tr>\n",
       "    <tr>\n",
       "      <th>1</th>\n",
       "      <td>1.0</td>\n",
       "      <td>36.0</td>\n",
       "      <td>40.0</td>\n",
       "      <td>True</td>\n",
       "    </tr>\n",
       "    <tr>\n",
       "      <th>2</th>\n",
       "      <td>-1.0</td>\n",
       "      <td>37.0</td>\n",
       "      <td>39.0</td>\n",
       "      <td>False</td>\n",
       "    </tr>\n",
       "    <tr>\n",
       "      <th>3</th>\n",
       "      <td>-1.0</td>\n",
       "      <td>37.0</td>\n",
       "      <td>39.0</td>\n",
       "      <td>True</td>\n",
       "    </tr>\n",
       "    <tr>\n",
       "      <th>4</th>\n",
       "      <td>1.0</td>\n",
       "      <td>38.0</td>\n",
       "      <td>40.0</td>\n",
       "      <td>True</td>\n",
       "    </tr>\n",
       "  </tbody>\n",
       "</table>\n",
       "</div>"
      ],
      "text/plain": [
       "   trend_status  range_low  range_high  change\n",
       "0           1.0       36.0        38.0   False\n",
       "1           1.0       36.0        40.0    True\n",
       "2          -1.0       37.0        39.0   False\n",
       "3          -1.0       37.0        39.0    True\n",
       "4           1.0       38.0        40.0    True"
      ]
     },
     "execution_count": 77,
     "metadata": {},
     "output_type": "execute_result"
    }
   ],
   "source": [
    "pnf.pnf_data"
   ]
  },
  {
   "cell_type": "code",
   "execution_count": 78,
   "id": "50d71f30",
   "metadata": {},
   "outputs": [
    {
     "data": {
      "text/plain": [
       "[(1.0, array([36, 37, 38, 39, 40])),\n",
       " (-1.0, array([37, 38, 39])),\n",
       " (1.0, array([38, 39, 40]))]"
      ]
     },
     "execution_count": 78,
     "metadata": {},
     "output_type": "execute_result"
    }
   ],
   "source": [
    "pnf.columns"
   ]
  },
  {
   "cell_type": "code",
   "execution_count": 79,
   "id": "42836e67",
   "metadata": {},
   "outputs": [
    {
     "data": {
      "text/plain": [
       "PnF chart of EXP1.csv"
      ]
     },
     "execution_count": 79,
     "metadata": {},
     "output_type": "execute_result"
    }
   ],
   "source": [
    "pnf"
   ]
  },
  {
   "cell_type": "code",
   "execution_count": 80,
   "id": "a5462e50",
   "metadata": {},
   "outputs": [
    {
     "name": "stdout",
     "output_type": "stream",
     "text": [
      "41.......41\n",
      "40..X.X..40\n",
      "39..XOX..39\n",
      "38..XOX..38\n",
      "37..XO...37\n",
      "36..X....36\n",
      "35.......35\n"
     ]
    }
   ],
   "source": [
    "print(pnf)"
   ]
  },
  {
   "cell_type": "code",
   "execution_count": null,
   "id": "eb0a9f2a",
   "metadata": {},
   "outputs": [],
   "source": []
  }
 ],
 "metadata": {
  "kernelspec": {
   "display_name": "Python 3 (ipykernel)",
   "language": "python",
   "name": "python3"
  },
  "language_info": {
   "codemirror_mode": {
    "name": "ipython",
    "version": 3
   },
   "file_extension": ".py",
   "mimetype": "text/x-python",
   "name": "python",
   "nbconvert_exporter": "python",
   "pygments_lexer": "ipython3",
   "version": "3.9.12"
  }
 },
 "nbformat": 4,
 "nbformat_minor": 5
}
