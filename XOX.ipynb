{
 "cells": [
  {
   "cell_type": "markdown",
   "id": "75085006",
   "metadata": {},
   "source": [
    "# XOX PnF charts\n",
    "## Development Notes"
   ]
  },
  {
   "cell_type": "markdown",
   "id": "5dd35a36",
   "metadata": {},
   "source": [
    "Two methods for populating charts:\n",
    "\n",
    "- **High and Low** price: whenever H and L are available\n",
    "- **Last/Close** price: for illiquid assets (or indices). Also for intraday trading using realtime data\n",
    "\n",
    "Scale types:\n",
    "\n",
    "- Constant size boxes\n",
    "- Variable size boxes"
   ]
  },
  {
   "cell_type": "code",
   "execution_count": 1,
   "id": "66ecf08a",
   "metadata": {},
   "outputs": [
    {
     "name": "stdout",
     "output_type": "stream",
     "text": [
      "Python version: 3.9.12 (main, Apr  5 2022, 01:53:17) \n",
      "[Clang 12.0.0 ]\n",
      "pandas version: 1.4.2\n",
      "numpy version: 1.22.3\n"
     ]
    }
   ],
   "source": [
    "import numpy as np\n",
    "import pandas as pd\n",
    "\n",
    "import sys\n",
    "print(f\"Python version: {sys.version}\")\n",
    "print(f\"pandas version: {pd.__version__}\")\n",
    "print(f\"numpy version: {np.__version__}\")"
   ]
  },
  {
   "cell_type": "code",
   "execution_count": 2,
   "id": "b046721d",
   "metadata": {},
   "outputs": [
    {
     "data": {
      "text/html": [
       "<div>\n",
       "<style scoped>\n",
       "    .dataframe tbody tr th:only-of-type {\n",
       "        vertical-align: middle;\n",
       "    }\n",
       "\n",
       "    .dataframe tbody tr th {\n",
       "        vertical-align: top;\n",
       "    }\n",
       "\n",
       "    .dataframe thead th {\n",
       "        text-align: right;\n",
       "    }\n",
       "</style>\n",
       "<table border=\"1\" class=\"dataframe\">\n",
       "  <thead>\n",
       "    <tr style=\"text-align: right;\">\n",
       "      <th></th>\n",
       "      <th>Open</th>\n",
       "      <th>High</th>\n",
       "      <th>Low</th>\n",
       "      <th>Close</th>\n",
       "      <th>Volume</th>\n",
       "    </tr>\n",
       "    <tr>\n",
       "      <th>Date</th>\n",
       "      <th></th>\n",
       "      <th></th>\n",
       "      <th></th>\n",
       "      <th></th>\n",
       "      <th></th>\n",
       "    </tr>\n",
       "  </thead>\n",
       "  <tbody>\n",
       "    <tr>\n",
       "      <th>2001-01-01</th>\n",
       "      <td>37.25</td>\n",
       "      <td>38.25</td>\n",
       "      <td>35.75</td>\n",
       "      <td>37.50</td>\n",
       "      <td>1234000</td>\n",
       "    </tr>\n",
       "    <tr>\n",
       "      <th>2001-01-02</th>\n",
       "      <td>39.50</td>\n",
       "      <td>40.12</td>\n",
       "      <td>39.25</td>\n",
       "      <td>40.00</td>\n",
       "      <td>1567000</td>\n",
       "    </tr>\n",
       "    <tr>\n",
       "      <th>2001-01-03</th>\n",
       "      <td>37.50</td>\n",
       "      <td>38.50</td>\n",
       "      <td>37.00</td>\n",
       "      <td>37.25</td>\n",
       "      <td>1456000</td>\n",
       "    </tr>\n",
       "    <tr>\n",
       "      <th>2001-01-04</th>\n",
       "      <td>37.00</td>\n",
       "      <td>37.50</td>\n",
       "      <td>36.50</td>\n",
       "      <td>37.00</td>\n",
       "      <td>1789000</td>\n",
       "    </tr>\n",
       "    <tr>\n",
       "      <th>2001-01-05</th>\n",
       "      <td>37.00</td>\n",
       "      <td>40.25</td>\n",
       "      <td>37.00</td>\n",
       "      <td>39.00</td>\n",
       "      <td>2345000</td>\n",
       "    </tr>\n",
       "  </tbody>\n",
       "</table>\n",
       "</div>"
      ],
      "text/plain": [
       "             Open   High    Low  Close   Volume\n",
       "Date                                           \n",
       "2001-01-01  37.25  38.25  35.75  37.50  1234000\n",
       "2001-01-02  39.50  40.12  39.25  40.00  1567000\n",
       "2001-01-03  37.50  38.50  37.00  37.25  1456000\n",
       "2001-01-04  37.00  37.50  36.50  37.00  1789000\n",
       "2001-01-05  37.00  40.25  37.00  39.00  2345000"
      ]
     },
     "execution_count": 2,
     "metadata": {},
     "output_type": "execute_result"
    }
   ],
   "source": [
    "# Reading a sample data file\n",
    "\n",
    "data_file = \"data/EXP1.csv\"\n",
    "\n",
    "data = pd.read_csv(data_file, index_col=\"Date\")\n",
    "data.index = pd.to_datetime(data.index) # Converting the dates from string to datetime format\n",
    "\n",
    "data.head()"
   ]
  },
  {
   "cell_type": "code",
   "execution_count": null,
   "id": "6cdc6f97",
   "metadata": {},
   "outputs": [],
   "source": [
    "data.describe()"
   ]
  },
  {
   "cell_type": "code",
   "execution_count": null,
   "id": "8116907e",
   "metadata": {},
   "outputs": [],
   "source": [
    "data.info()"
   ]
  },
  {
   "cell_type": "code",
   "execution_count": 4,
   "id": "479fd5d4",
   "metadata": {},
   "outputs": [],
   "source": [
    "# Using only H, L and C data\n",
    "price_data = data[['High','Low','Close']]"
   ]
  },
  {
   "cell_type": "code",
   "execution_count": null,
   "id": "bb7ee322",
   "metadata": {},
   "outputs": [],
   "source": [
    "price_data.head()"
   ]
  },
  {
   "cell_type": "code",
   "execution_count": 15,
   "id": "9fef16fb",
   "metadata": {},
   "outputs": [
    {
     "data": {
      "text/plain": [
       "5"
      ]
     },
     "execution_count": 15,
     "metadata": {},
     "output_type": "execute_result"
    }
   ],
   "source": [
    "price_data.index[-1].day"
   ]
  },
  {
   "cell_type": "markdown",
   "id": "1170aa52",
   "metadata": {},
   "source": [
    "## PnF functions\n",
    "\n",
    "- init_pnf() initializes the first column\n",
    "- update_pnf() deals with the rest of the chart\n",
    "- chart_text() generates a string with a text version of the chart"
   ]
  },
  {
   "cell_type": "code",
   "execution_count": null,
   "id": "d7de6c40",
   "metadata": {},
   "outputs": [],
   "source": [
    "'''\n",
    "functions to update to include Date as index:\n",
    "- process_pnf()\n",
    "- get_chart()\n",
    "\n",
    "'''"
   ]
  },
  {
   "cell_type": "code",
   "execution_count": null,
   "id": "4b1a9523",
   "metadata": {},
   "outputs": [],
   "source": [
    "import pnfplot"
   ]
  },
  {
   "cell_type": "code",
   "execution_count": null,
   "id": "89d5bc65",
   "metadata": {},
   "outputs": [],
   "source": [
    "# TO DO - modify this to take account of decimal vs integer scales\n",
    "def generate_scale(start, end, box_size=1, method='standard'):\n",
    "    scale = np.arange(start=start, stop=high+box_size, step=box_size)\n",
    "    \n",
    "    return scale"
   ]
  },
  {
   "cell_type": "markdown",
   "id": "491a7abf",
   "metadata": {},
   "source": [
    "## Testing our functions"
   ]
  },
  {
   "cell_type": "code",
   "execution_count": null,
   "id": "0ab632cc",
   "metadata": {},
   "outputs": [],
   "source": [
    "# testing init_pnf() on the 1st line of data:\n",
    "\n",
    "box_size = 1\n",
    "reversal_size = 3\n",
    "# scale = pnfplot.generate_scale(start=32, end=44, box_size = box_size)\n",
    "scale = np.arange(32,42, 1)\n",
    "\n",
    "high = 38.25\n",
    "low = 35.75\n",
    "close = 37.5\n",
    "\n",
    "status, box_range = pnfplot.init_pnf(scale, high, low, close, reversal_size)\n",
    "print(status, box_range)"
   ]
  },
  {
   "cell_type": "code",
   "execution_count": null,
   "id": "d7f99a9e",
   "metadata": {},
   "outputs": [],
   "source": [
    "# testing init_pnf() on subsequent lines of data (when status==0)\n",
    "# define: box_range array, status\n",
    "\n",
    "\n",
    "high = 39.25\n",
    "low = 35.01\n",
    "close = 38\n",
    "\n",
    "pnfplot.init_pnf(scale, high, low, close, reversal_size, box_range)"
   ]
  },
  {
   "cell_type": "markdown",
   "id": "b2e1eff7",
   "metadata": {},
   "source": [
    "### Tests for update_pnf() go here"
   ]
  },
  {
   "cell_type": "code",
   "execution_count": null,
   "id": "c71d9835",
   "metadata": {},
   "outputs": [],
   "source": [
    "# test 1\n",
    "trend_status = np.array([1, 0, 0])\n",
    "box_range = np.array([36, 37, 38])\n",
    "\n",
    "reversal_size = 3\n",
    "\n",
    "high = 40.12\n",
    "low = 39.25\n",
    "\n",
    "start = 1\n",
    "status = trend_status[0]\n",
    "box_h = box_range.max()\n",
    "box_l = box_range.min()\n",
    "\n",
    "# print(scale, high, low, status, reversal_size, box_l, box_h)\n",
    "pnfplot.update_pnf(scale, high, low, status, reversal_size, box_l, box_h)"
   ]
  },
  {
   "cell_type": "code",
   "execution_count": null,
   "id": "6cd23c91",
   "metadata": {},
   "outputs": [],
   "source": [
    "# test 2\n",
    "trend_status = np.array([1, 1, 0])\n",
    "box_range = np.array([36, 37, 38, 39, 40])\n",
    "\n",
    "reversal_size = 3\n",
    "\n",
    "high = 38.5\n",
    "low = 37\n",
    "\n",
    "status = trend_status[1]\n",
    "box_h = box_range.max()\n",
    "box_l = box_range.min()\n",
    "\n",
    "# print(scale, high, low, status, reversal_size, box_l, box_h)\n",
    "pnfplot.update_pnf(scale, high, low, status, reversal_size, box_l, box_h)"
   ]
  },
  {
   "cell_type": "code",
   "execution_count": null,
   "id": "fd39a94f",
   "metadata": {},
   "outputs": [],
   "source": [
    "# test 3\n",
    "trend_status = np.array([1, 1, -1])\n",
    "box_range = np.array([37, 38, 39])\n",
    "\n",
    "reversal_size = 3\n",
    "\n",
    "high = 40.25\n",
    "low = 37\n",
    "\n",
    "start = 1\n",
    "status = trend_status[2]\n",
    "box_h = box_range.max()\n",
    "box_l = box_range.min()\n",
    "\n",
    "# print(scale, high, low, status, reversal_size, box_l, box_h)\n",
    "pnfplot.update_pnf(scale, high, low, status, reversal_size, box_l, box_h)"
   ]
  },
  {
   "cell_type": "markdown",
   "id": "4d3ea379",
   "metadata": {},
   "source": [
    "## Processing the data using the functions - new"
   ]
  },
  {
   "cell_type": "code",
   "execution_count": null,
   "id": "9afdf5f5",
   "metadata": {},
   "outputs": [],
   "source": [
    "import pnfplot\n",
    "\n",
    "box_size = 1\n",
    "reversal_size = 3\n",
    "data_file = \"MMO2.csv\"\n",
    "plot_method = \"high-low\"\n",
    "scale_method = 'linear'\n",
    "\n",
    "chart_params = {\n",
    "    'data_file': data_file,\n",
    "    'reversal_size': reversal_size,\n",
    "    'box_size': box_size,\n",
    "    'plot_method': plot_method,\n",
    "    'scale_method': scale_method,\n",
    "}\n",
    "\n",
    "scale, columns = pnfplot.get_chart(chart_params)\n",
    "print(pnfplot.pnf_text(scale, columns))"
   ]
  },
  {
   "cell_type": "code",
   "execution_count": null,
   "id": "d0034b4f",
   "metadata": {},
   "outputs": [],
   "source": [
    "columns"
   ]
  },
  {
   "cell_type": "markdown",
   "id": "d6d59abf",
   "metadata": {},
   "source": [
    "## Processing the data using the functions (old)"
   ]
  },
  {
   "cell_type": "code",
   "execution_count": null,
   "id": "3d2d0d25",
   "metadata": {},
   "outputs": [],
   "source": [
    "price_data.head()"
   ]
  },
  {
   "cell_type": "code",
   "execution_count": null,
   "id": "7564f061",
   "metadata": {},
   "outputs": [],
   "source": [
    "# initialise status and box arrays:\n",
    "trend_status = np.zeros(len(price_data))\n",
    "box_low = np.zeros(len(price_data))\n",
    "box_high = np.zeros(len(price_data))\n",
    "\n",
    "trend_data = pd.DataFrame({\n",
    "    'trend_status' : trend_status,\n",
    "    'range_low': box_low,\n",
    "    'range_high': box_high\n",
    "})\n",
    "\n",
    "pnf_data = pd.concat([price_data, trend_data], axis=1)\n",
    "pnf_data"
   ]
  },
  {
   "cell_type": "code",
   "execution_count": null,
   "id": "e985c108",
   "metadata": {},
   "outputs": [],
   "source": [
    "# initialise status and box arrays:\n",
    "# trend_status = np.zeros(len(price_data))\n",
    "# box_low = np.zeros(len(price_data))\n",
    "# box_high = np.zeros(len(price_data))\n",
    "\n",
    "box_size = 10\n",
    "reversal_size = 3\n",
    "# scale = generate_scale(start=np.floor(price_data['Low'].min()), end=np.ceil(price_data['High'].max()), box_size=box_size)\n",
    "scale = np.arange(34,42, 1)\n",
    "\n",
    "print(f'Trend status: {trend_status}\\nBox Low: {box_low}\\nBox High: {box_high}\\nScale: {scale}')"
   ]
  },
  {
   "cell_type": "code",
   "execution_count": null,
   "id": "f8d21c30",
   "metadata": {},
   "outputs": [],
   "source": [
    "# Initialise the chart until a status (+/-)1 is reached\n",
    "box_range = []\n",
    "for index, row in enumerate(price_data.iterrows()):\n",
    "    high = row[1]['High']\n",
    "    low = row[1]['Low']\n",
    "    close = row[1]['Close']\n",
    "    status, box_range = pnfplot.init_pnf(scale, high, low, close, reversal_size, box_range)\n",
    "    trend_status[index] = status\n",
    "    box_low[index] = box_range.min()\n",
    "    box_high[index] = box_range.max()\n",
    "    if status != 0:\n",
    "        break\n",
    "\n",
    "# status can still be 0! create an example for testing\n",
    "print(f'Index: {index}\\nTrend status: {trend_status}\\nBox Low: {box_low}\\nBox High: {box_high}\\nRange: {scale[np.logical_and(scale>=box_low[index], scale<=box_high[index])]}')"
   ]
  },
  {
   "cell_type": "code",
   "execution_count": null,
   "id": "26ea07f6",
   "metadata": {},
   "outputs": [],
   "source": [
    "\n",
    "# Alt version - Repeat initialize!\n",
    "# Initialise the chart until a status (+/-)1 is reached\n",
    "\n",
    "box_range = []\n",
    "# row_count = 0\n",
    "for row in pnf_data.iterrows():\n",
    "    high = row[1]['High']\n",
    "    low = row[1]['Low']\n",
    "    close = row[1]['Close']\n",
    "    status, box_range = pnfplot.init_pnf(scale, high, low, close, reversal_size, box_range)\n",
    "    row[1]['trend_status'] = status\n",
    "    row[1]['range_low'] = box_range.min()\n",
    "    row[1]['range_high'] = box_range.max()\n",
    "#     row_count += 1\n",
    "    if status != 0:\n",
    "        status_found = row[0]\n",
    "        break\n",
    "\n",
    "print(row[0], row_count)\n",
    "pnf_data\n",
    "# status can still be 0! create an example for testing"
   ]
  },
  {
   "cell_type": "code",
   "execution_count": null,
   "id": "1656bad9",
   "metadata": {},
   "outputs": [],
   "source": [
    "# Check if there are more lines of data to process\n",
    "print(status_found + 1 < len(price_data)-1)"
   ]
  },
  {
   "cell_type": "code",
   "execution_count": null,
   "id": "0a95e82f",
   "metadata": {},
   "outputs": [],
   "source": [
    "# Next, we need to process the prices after index:\n",
    "start = index + 1\n",
    "price_data.loc[start:].head()"
   ]
  },
  {
   "cell_type": "code",
   "execution_count": null,
   "id": "820816b4",
   "metadata": {},
   "outputs": [],
   "source": [
    "# Process the remaining lines in price_data:\n",
    "for index, row in enumerate(price_data.loc[start:].iterrows()):\n",
    "    high = row[1]['High']\n",
    "    low = row[1]['Low']\n",
    "    status = trend_status[index + start - 1]\n",
    "    box_l = box_low[index + start - 1]\n",
    "    box_h = box_high[index + start - 1]\n",
    "    status, box_range = update_pnf(scale, high, low, status, reversal_size, box_l, box_h)\n",
    "    trend_status[index+start] = status\n",
    "    box_low[index+start] = box_range.min()\n",
    "    box_high[index+start] = box_range.max()\n",
    "    print(f'Day: {index+start+1}, Trend status: {status}, High and Low: ', high, low, box_low, box_high)\n",
    "\n",
    "# status can still be 0! create an example for testing that case\n",
    "# print(index, trend_status, box_low, box_high)"
   ]
  },
  {
   "cell_type": "code",
   "execution_count": null,
   "id": "c8142cf1",
   "metadata": {},
   "outputs": [],
   "source": [
    "pnf_data_ext = pd.concat([pnf_data,\n",
    "                         pnf_data[['trend_status', 'range_low', 'range_high']].shift(1)], axis=1)\n",
    "pnf_data_ext"
   ]
  },
  {
   "cell_type": "code",
   "execution_count": null,
   "id": "32bafdf8",
   "metadata": {},
   "outputs": [],
   "source": []
  },
  {
   "cell_type": "code",
   "execution_count": null,
   "id": "73de9413",
   "metadata": {},
   "outputs": [],
   "source": [
    "# alt version\n",
    "# Process the remaining lines in price_data:\n",
    "pnf_data[row_count:].apply(lambda row:\n",
    "                          \n",
    "                           \n",
    "                           ,\n",
    "                          axis=1)\n",
    "\n",
    "# status can still be 0! create an example for testing that case\n",
    "# print(index, trend_status, box_low, box_high)"
   ]
  },
  {
   "cell_type": "code",
   "execution_count": null,
   "id": "5a6d3ca9",
   "metadata": {},
   "outputs": [],
   "source": [
    "print(trend_status, box_low, box_high)"
   ]
  },
  {
   "cell_type": "markdown",
   "id": "4e5a81d8",
   "metadata": {},
   "source": [
    "## Printing the PnF chart"
   ]
  },
  {
   "cell_type": "code",
   "execution_count": null,
   "id": "3a1a16f6",
   "metadata": {},
   "outputs": [],
   "source": [
    "trend_status = trend_status\n",
    "box_low = box_low\n",
    "box_low = box_low\n",
    "\n",
    "pnf_data = pd.DataFrame({'trend_status': trend_status,\n",
    "                         'range_low': box_low,\n",
    "                         'range_high': box_high\n",
    "                        })\n",
    "pnf_data"
   ]
  },
  {
   "cell_type": "markdown",
   "id": "b73a8f42",
   "metadata": {},
   "source": [
    "We plot a column each time the **change** bool array is True (note: it's shifted up), then for the last row"
   ]
  },
  {
   "cell_type": "code",
   "execution_count": null,
   "id": "befcb929",
   "metadata": {},
   "outputs": [],
   "source": [
    "changes = (np.diff(np.sign(trend_status)) != 0)\n",
    "# We make sure that the a column is generated for the last price line:\n",
    "changes = np.append(changes, [True])\n",
    "changes"
   ]
  },
  {
   "cell_type": "code",
   "execution_count": null,
   "id": "ba45b921",
   "metadata": {},
   "outputs": [],
   "source": [
    "# Note that the change column is 'shifted': it's True when a status change is detected on the next price line:\n",
    "pnf_data['change'] = changes\n",
    "pnf_data"
   ]
  },
  {
   "cell_type": "code",
   "execution_count": null,
   "id": "b13abe68",
   "metadata": {},
   "outputs": [],
   "source": [
    "ranges = []\n",
    "trends = []\n",
    "scale = scale\n",
    "\n",
    "# should we use .apply() here?\n",
    "for row in pnf_data[pnf_data['change']].iterrows():\n",
    "    row = row[1]\n",
    "    col_range = generate_column_range(scale, row['range_low'], row['range_high'])\n",
    "    ranges.append(col_range)\n",
    "    trends.append(row['trend_status'])\n",
    "\n",
    "columns = list(zip(trends, ranges))\n",
    "\n",
    "print(columns[:10])"
   ]
  },
  {
   "cell_type": "code",
   "execution_count": null,
   "id": "129ff570",
   "metadata": {},
   "outputs": [],
   "source": [
    "print(pnf_text(scale, columns))"
   ]
  },
  {
   "cell_type": "code",
   "execution_count": null,
   "id": "abbdaf8a",
   "metadata": {},
   "outputs": [],
   "source": []
  },
  {
   "cell_type": "code",
   "execution_count": 38,
   "id": "db7a1ec6",
   "metadata": {},
   "outputs": [],
   "source": [
    "import csv\n",
    "with open('xox_pnf/data/MMO2.csv', newline='') as csvfile:\n",
    "    reader = csv.reader(csvfile, delimiter=',')\n",
    "    data = list(reader)\n",
    "#     for row in reader:\n",
    "#         print(', '.join(row))\n"
   ]
  },
  {
   "cell_type": "code",
   "execution_count": 39,
   "id": "83eeed7c",
   "metadata": {},
   "outputs": [],
   "source": [
    "data_new =[]\n",
    "for line in data[1:]:\n",
    "    day, month, year = line[0].split('-')\n",
    "    date = ['-'.join((year,month,day))]\n",
    "    prices = line[1:]\n",
    "    date.extend(prices)\n",
    "    data_new.append(date)"
   ]
  },
  {
   "cell_type": "code",
   "execution_count": 40,
   "id": "c162c401",
   "metadata": {},
   "outputs": [
    {
     "data": {
      "text/plain": [
       "[['2002-01-02', '86.00', '90.25', '86.00', '89.00', '32571772'],\n",
       " ['2002-01-03', '89.10', '91.75', '87.25', '90.89', '96608224'],\n",
       " ['2002-01-04', '92.00', '92.75', '88.75', '91.25', '83221424'],\n",
       " ['2002-01-07', '92.00', '92.25', '88.00', '90.72', '80453848'],\n",
       " ['2002-01-08', '89.61', '92.50', '88.50', '91.56', '149584448'],\n",
       " ['2002-01-09', '91.00', '91.50', '86.66', '89.22', '104319984'],\n",
       " ['2002-01-10', '87.50', '87.75', '85.25', '86.50', '134468912'],\n",
       " ['2002-01-11', '87.50', '89.50', '86.50', '88.50', '48392516'],\n",
       " ['2002-01-14', '85.25', '87.50', '84.81', '85.03', '34868488'],\n",
       " ['2002-01-15', '85.00', '90.00', '84.50', '88.00', '76452320'],\n",
       " ['2002-01-16', '86.50', '90.00', '80.00', '88.00', '73580800'],\n",
       " ['2002-01-17', '86.53', '88.25', '85.90', '86.25', '72097752'],\n",
       " ['2002-01-18', '86.75', '88.25', '85.00', '85.53', '104493032'],\n",
       " ['2002-01-21', '85.25', '86.50', '84.25', '85.25', '27617188'],\n",
       " ['2002-01-22', '85.00', '86.84', '82.50', '84.94', '48338120'],\n",
       " ['2002-01-23', '82.00', '83.00', '80.00', '81.53', '105278408'],\n",
       " ['2002-01-24', '81.03', '84.25', '81.00', '82.47', '94844912'],\n",
       " ['2002-01-25', '82.63', '83.31', '80.25', '81.25', '26047040'],\n",
       " ['2002-01-28', '81.28', '84.00', '79.00', '79.43', '69077912'],\n",
       " ['2002-01-29', '81.28', '81.95', '79.00', '80.25', '74353048'],\n",
       " ['2002-01-30', '79.53', '79.53', '75.50', '78.00', '94711624'],\n",
       " ['2002-01-31', '76.28', '80.00', '76.22', '76.75', '63062104'],\n",
       " ['2002-02-01', '77.28', '80.16', '75.00', '79.13', '85325560'],\n",
       " ['2002-02-04', '78.25', '78.57', '74.75', '75.52', '48750840'],\n",
       " ['2002-02-05', '75.00', '76.00', '72.25', '73.81', '101264192'],\n",
       " ['2002-02-06', '75.03', '75.03', '70.00', '71.61', '55556080'],\n",
       " ['2002-02-07', '70.72', '74.25', '68.00', '71.70', '83176912'],\n",
       " ['2002-02-08', '71.97', '75.00', '71.32', '73.28', '55047380'],\n",
       " ['2002-02-11', '72.22', '75.00', '71.25', '71.50', '45950152'],\n",
       " ['2002-02-12', '71.50', '73.66', '69.50', '71.10', '49905948'],\n",
       " ['2002-02-13', '71.53', '72.38', '66.10', '68.27', '153598560'],\n",
       " ['2002-02-14', '68.02', '69.75', '66.50', '67.94', '68061024'],\n",
       " ['2002-02-15', '67.98', '70.50', '66.50', '67.25', '78512064'],\n",
       " ['2002-02-18', '68.27', '68.48', '65.25', '66.04', '57734716'],\n",
       " ['2002-02-19', '65.98', '66.50', '62.50', '64.66', '70843168'],\n",
       " ['2002-02-20', '64.94', '64.94', '58.00', '60.04', '109770192'],\n",
       " ['2002-02-21', '63.00', '63.75', '58.98', '62.00', '71520240'],\n",
       " ['2002-02-22', '62.98', '64.25', '61.25', '62.41', '38584116'],\n",
       " ['2002-02-25', '61.73', '63.75', '60.00', '61.45', '84168552'],\n",
       " ['2002-02-26', '61.73', '67.00', '61.18', '64.29', '139078592'],\n",
       " ['2002-02-27', '65.23', '68.00', '63.50', '64.00', '98475920'],\n",
       " ['2002-02-28', '67.77', '68.06', '64.25', '66.00', '42747032']]"
      ]
     },
     "execution_count": 40,
     "metadata": {},
     "output_type": "execute_result"
    }
   ],
   "source": [
    "data_new"
   ]
  },
  {
   "cell_type": "code",
   "execution_count": 41,
   "id": "7ad3bdc3",
   "metadata": {},
   "outputs": [
    {
     "data": {
      "text/plain": [
       "['Date', 'Open', 'High', 'Low', 'Close', 'Volume']"
      ]
     },
     "execution_count": 41,
     "metadata": {},
     "output_type": "execute_result"
    }
   ],
   "source": [
    "data[0]"
   ]
  },
  {
   "cell_type": "code",
   "execution_count": 42,
   "id": "78d7cc2c",
   "metadata": {},
   "outputs": [],
   "source": [
    "with open('xox_pnf/data/MMO2_new.csv', 'w') as f:\n",
    "      \n",
    "    # using csv.writer method from CSV package\n",
    "    write = csv.writer(f)\n",
    "      \n",
    "    write.writerow(data[0])\n",
    "    write.writerows(data_new)"
   ]
  },
  {
   "cell_type": "code",
   "execution_count": null,
   "id": "294d92ed",
   "metadata": {},
   "outputs": [],
   "source": []
  }
 ],
 "metadata": {
  "kernelspec": {
   "display_name": "Python 3 (ipykernel)",
   "language": "python",
   "name": "python3"
  },
  "language_info": {
   "codemirror_mode": {
    "name": "ipython",
    "version": 3
   },
   "file_extension": ".py",
   "mimetype": "text/x-python",
   "name": "python",
   "nbconvert_exporter": "python",
   "pygments_lexer": "ipython3",
   "version": "3.9.12"
  }
 },
 "nbformat": 4,
 "nbformat_minor": 5
}
